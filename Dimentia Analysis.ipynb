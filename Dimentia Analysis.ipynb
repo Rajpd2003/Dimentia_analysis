{
 "cells": [
  {
   "cell_type": "markdown",
   "id": "ef1008a8",
   "metadata": {
    "execution": {
     "iopub.execute_input": "2022-10-19T14:36:23.498434Z",
     "iopub.status.busy": "2022-10-19T14:36:23.497413Z",
     "iopub.status.idle": "2022-10-19T14:36:23.565483Z",
     "shell.execute_reply": "2022-10-19T14:36:23.564509Z",
     "shell.execute_reply.started": "2022-10-19T14:36:23.49839Z"
    },
    "papermill": {
     "duration": 0.00985,
     "end_time": "2022-10-22T22:04:48.659481",
     "exception": false,
     "start_time": "2022-10-22T22:04:48.649631",
     "status": "completed"
    },
    "tags": []
   },
   "source": [
    "#### Importing Libraries"
   ]
  },
  {
   "cell_type": "code",
   "execution_count": 1,
   "id": "698a593f",
   "metadata": {
    "_kg_hide-output": true,
    "execution": {
     "iopub.execute_input": "2022-10-22T22:04:48.678564Z",
     "iopub.status.busy": "2022-10-22T22:04:48.677987Z",
     "iopub.status.idle": "2022-10-22T22:05:00.194308Z",
     "shell.execute_reply": "2022-10-22T22:05:00.193144Z"
    },
    "papermill": {
     "duration": 11.528836,
     "end_time": "2022-10-22T22:05:00.197031",
     "exception": false,
     "start_time": "2022-10-22T22:04:48.668195",
     "status": "completed"
    },
    "tags": []
   },
   "outputs": [
    {
     "name": "stdout",
     "output_type": "stream",
     "text": [
      "Collecting timm\r\n",
      "  Downloading timm-0.6.11-py3-none-any.whl (548 kB)\r\n",
      "\u001b[2K     \u001b[90m━━━━━━━━━━━━━━━━━━━━━━━━━━━━━━━━━━━━━━━\u001b[0m \u001b[32m548.7/548.7 kB\u001b[0m \u001b[31m2.6 MB/s\u001b[0m eta \u001b[36m0:00:00\u001b[0m\r\n",
      "\u001b[?25hRequirement already satisfied: huggingface-hub in /opt/conda/lib/python3.7/site-packages (from timm) (0.8.1)\r\n",
      "Requirement already satisfied: torchvision in /opt/conda/lib/python3.7/site-packages (from timm) (0.12.0)\r\n",
      "Requirement already satisfied: torch>=1.7 in /opt/conda/lib/python3.7/site-packages (from timm) (1.11.0)\r\n",
      "Requirement already satisfied: pyyaml in /opt/conda/lib/python3.7/site-packages (from timm) (6.0)\r\n",
      "Requirement already satisfied: typing-extensions in /opt/conda/lib/python3.7/site-packages (from torch>=1.7->timm) (4.3.0)\r\n",
      "Requirement already satisfied: filelock in /opt/conda/lib/python3.7/site-packages (from huggingface-hub->timm) (3.7.1)\r\n",
      "Requirement already satisfied: requests in /opt/conda/lib/python3.7/site-packages (from huggingface-hub->timm) (2.28.1)\r\n",
      "Requirement already satisfied: tqdm in /opt/conda/lib/python3.7/site-packages (from huggingface-hub->timm) (4.64.0)\r\n",
      "Requirement already satisfied: packaging>=20.9 in /opt/conda/lib/python3.7/site-packages (from huggingface-hub->timm) (21.3)\r\n",
      "Requirement already satisfied: importlib-metadata in /opt/conda/lib/python3.7/site-packages (from huggingface-hub->timm) (4.12.0)\r\n",
      "Requirement already satisfied: numpy in /opt/conda/lib/python3.7/site-packages (from torchvision->timm) (1.21.6)\r\n",
      "Requirement already satisfied: pillow!=8.3.*,>=5.3.0 in /opt/conda/lib/python3.7/site-packages (from torchvision->timm) (9.1.1)\r\n",
      "Requirement already satisfied: pyparsing!=3.0.5,>=2.0.2 in /opt/conda/lib/python3.7/site-packages (from packaging>=20.9->huggingface-hub->timm) (3.0.9)\r\n",
      "Requirement already satisfied: zipp>=0.5 in /opt/conda/lib/python3.7/site-packages (from importlib-metadata->huggingface-hub->timm) (3.8.0)\r\n",
      "Requirement already satisfied: urllib3<1.27,>=1.21.1 in /opt/conda/lib/python3.7/site-packages (from requests->huggingface-hub->timm) (1.26.12)\r\n",
      "Requirement already satisfied: charset-normalizer<3,>=2 in /opt/conda/lib/python3.7/site-packages (from requests->huggingface-hub->timm) (2.1.0)\r\n",
      "Requirement already satisfied: idna<4,>=2.5 in /opt/conda/lib/python3.7/site-packages (from requests->huggingface-hub->timm) (3.3)\r\n",
      "Requirement already satisfied: certifi>=2017.4.17 in /opt/conda/lib/python3.7/site-packages (from requests->huggingface-hub->timm) (2022.6.15.2)\r\n",
      "Installing collected packages: timm\r\n",
      "Successfully installed timm-0.6.11\r\n",
      "\u001b[33mWARNING: Running pip as the 'root' user can result in broken permissions and conflicting behaviour with the system package manager. It is recommended to use a virtual environment instead: https://pip.pypa.io/warnings/venv\u001b[0m\u001b[33m\r\n",
      "\u001b[0m"
     ]
    }
   ],
   "source": [
    "!pip install timm"
   ]
  },
  {
   "cell_type": "markdown",
   "id": "e8c8543b",
   "metadata": {
    "papermill": {
     "duration": 0.010666,
     "end_time": "2022-10-22T22:05:00.217395",
     "exception": false,
     "start_time": "2022-10-22T22:05:00.206729",
     "status": "completed"
    },
    "tags": []
   },
   "source": [
    "# Libraries"
   ]
  },
  {
   "cell_type": "code",
   "execution_count": 2,
   "id": "e25ec9b7",
   "metadata": {
    "execution": {
     "iopub.execute_input": "2022-10-22T22:05:00.237545Z",
     "iopub.status.busy": "2022-10-22T22:05:00.237140Z",
     "iopub.status.idle": "2022-10-22T22:05:05.081960Z",
     "shell.execute_reply": "2022-10-22T22:05:05.080883Z"
    },
    "papermill": {
     "duration": 4.858133,
     "end_time": "2022-10-22T22:05:05.084659",
     "exception": false,
     "start_time": "2022-10-22T22:05:00.226526",
     "status": "completed"
    },
    "tags": []
   },
   "outputs": [],
   "source": [
    "import numpy as np\n",
    "import pandas as pd\n",
    "import matplotlib.pyplot as plt\n",
    "import seaborn as sns\n",
    "from statistics import mean\n",
    "\n",
    "from sklearn.model_selection import train_test_split\n",
    "from sklearn.metrics import accuracy_score\n",
    "import cv2\n",
    "\n",
    "import timm\n",
    "from tqdm import tqdm\n",
    "import torch\n",
    "import torch.nn as nn\n",
    "import torch.nn.functional as F\n",
    "from torch.optim import Adam, SGD\n",
    "import torchvision.models as models\n",
    "from torch.utils.data import DataLoader, Dataset\n",
    "from torch.optim.lr_scheduler import StepLR\n",
    "\n",
    "import albumentations as A\n",
    "from albumentations.pytorch import ToTensorV2\n",
    "\n",
    "import warnings\n",
    "warnings.filterwarnings('ignore')\n",
    "\n",
    "#\n",
    "import random"
   ]
  },
  {
   "cell_type": "code",
   "execution_count": 3,
   "id": "f9d84241",
   "metadata": {
    "execution": {
     "iopub.execute_input": "2022-10-22T22:05:05.105032Z",
     "iopub.status.busy": "2022-10-22T22:05:05.104540Z",
     "iopub.status.idle": "2022-10-22T22:05:05.173915Z",
     "shell.execute_reply": "2022-10-22T22:05:05.173013Z"
    },
    "papermill": {
     "duration": 0.081729,
     "end_time": "2022-10-22T22:05:05.175944",
     "exception": false,
     "start_time": "2022-10-22T22:05:05.094215",
     "status": "completed"
    },
    "tags": []
   },
   "outputs": [],
   "source": [
    "device = torch.device(\"cuda\" if torch.cuda.is_available() else \"cpu\")"
   ]
  },
  {
   "cell_type": "markdown",
   "id": "704e7408",
   "metadata": {
    "papermill": {
     "duration": 0.009273,
     "end_time": "2022-10-22T22:05:05.195083",
     "exception": false,
     "start_time": "2022-10-22T22:05:05.185810",
     "status": "completed"
    },
    "tags": []
   },
   "source": [
    "# Dataset"
   ]
  },
  {
   "cell_type": "markdown",
   "id": "62a5b48a",
   "metadata": {
    "papermill": {
     "duration": 0.009491,
     "end_time": "2022-10-22T22:05:05.213916",
     "exception": false,
     "start_time": "2022-10-22T22:05:05.204425",
     "status": "completed"
    },
    "tags": []
   },
   "source": [
    "#### Data Analysis\n",
    "* concetto_CDT contains images of hand-drawn clock\n",
    "* train_csv contain the corrsponding image id and their labels\n",
    "* test_csv contain the images which needs to be predicted"
   ]
  },
  {
   "cell_type": "code",
   "execution_count": 4,
   "id": "be8e30a1",
   "metadata": {
    "execution": {
     "iopub.execute_input": "2022-10-22T22:05:05.235885Z",
     "iopub.status.busy": "2022-10-22T22:05:05.234206Z",
     "iopub.status.idle": "2022-10-22T22:05:05.264829Z",
     "shell.execute_reply": "2022-10-22T22:05:05.263943Z"
    },
    "papermill": {
     "duration": 0.043482,
     "end_time": "2022-10-22T22:05:05.267166",
     "exception": false,
     "start_time": "2022-10-22T22:05:05.223684",
     "status": "completed"
    },
    "tags": []
   },
   "outputs": [],
   "source": [
    "train = pd.read_csv('../input/concetto22/train.csv')\n",
    "test = pd.read_csv('../input/concetto22/test.csv')"
   ]
  },
  {
   "cell_type": "code",
   "execution_count": 5,
   "id": "99e615c7",
   "metadata": {
    "execution": {
     "iopub.execute_input": "2022-10-22T22:05:05.287179Z",
     "iopub.status.busy": "2022-10-22T22:05:05.286877Z",
     "iopub.status.idle": "2022-10-22T22:05:05.304775Z",
     "shell.execute_reply": "2022-10-22T22:05:05.303737Z"
    },
    "papermill": {
     "duration": 0.030622,
     "end_time": "2022-10-22T22:05:05.307281",
     "exception": false,
     "start_time": "2022-10-22T22:05:05.276659",
     "status": "completed"
    },
    "tags": []
   },
   "outputs": [
    {
     "data": {
      "text/html": [
       "<div>\n",
       "<style scoped>\n",
       "    .dataframe tbody tr th:only-of-type {\n",
       "        vertical-align: middle;\n",
       "    }\n",
       "\n",
       "    .dataframe tbody tr th {\n",
       "        vertical-align: top;\n",
       "    }\n",
       "\n",
       "    .dataframe thead th {\n",
       "        text-align: right;\n",
       "    }\n",
       "</style>\n",
       "<table border=\"1\" class=\"dataframe\">\n",
       "  <thead>\n",
       "    <tr style=\"text-align: right;\">\n",
       "      <th></th>\n",
       "      <th>id</th>\n",
       "      <th>tar</th>\n",
       "    </tr>\n",
       "  </thead>\n",
       "  <tbody>\n",
       "    <tr>\n",
       "      <th>0</th>\n",
       "      <td>20002859.0</td>\n",
       "      <td>5.0</td>\n",
       "    </tr>\n",
       "    <tr>\n",
       "      <th>1</th>\n",
       "      <td>10011157.0</td>\n",
       "      <td>5.0</td>\n",
       "    </tr>\n",
       "    <tr>\n",
       "      <th>2</th>\n",
       "      <td>10011996.0</td>\n",
       "      <td>5.0</td>\n",
       "    </tr>\n",
       "    <tr>\n",
       "      <th>3</th>\n",
       "      <td>10000364.0</td>\n",
       "      <td>5.0</td>\n",
       "    </tr>\n",
       "    <tr>\n",
       "      <th>4</th>\n",
       "      <td>20004294.0</td>\n",
       "      <td>3.0</td>\n",
       "    </tr>\n",
       "  </tbody>\n",
       "</table>\n",
       "</div>"
      ],
      "text/plain": [
       "           id  tar\n",
       "0  20002859.0  5.0\n",
       "1  10011157.0  5.0\n",
       "2  10011996.0  5.0\n",
       "3  10000364.0  5.0\n",
       "4  20004294.0  3.0"
      ]
     },
     "execution_count": 5,
     "metadata": {},
     "output_type": "execute_result"
    }
   ],
   "source": [
    "train.head()"
   ]
  },
  {
   "cell_type": "code",
   "execution_count": 6,
   "id": "1d83f0e5",
   "metadata": {
    "execution": {
     "iopub.execute_input": "2022-10-22T22:05:05.327527Z",
     "iopub.status.busy": "2022-10-22T22:05:05.327228Z",
     "iopub.status.idle": "2022-10-22T22:05:05.336547Z",
     "shell.execute_reply": "2022-10-22T22:05:05.335654Z"
    },
    "papermill": {
     "duration": 0.021835,
     "end_time": "2022-10-22T22:05:05.338547",
     "exception": false,
     "start_time": "2022-10-22T22:05:05.316712",
     "status": "completed"
    },
    "tags": []
   },
   "outputs": [
    {
     "data": {
      "text/html": [
       "<div>\n",
       "<style scoped>\n",
       "    .dataframe tbody tr th:only-of-type {\n",
       "        vertical-align: middle;\n",
       "    }\n",
       "\n",
       "    .dataframe tbody tr th {\n",
       "        vertical-align: top;\n",
       "    }\n",
       "\n",
       "    .dataframe thead th {\n",
       "        text-align: right;\n",
       "    }\n",
       "</style>\n",
       "<table border=\"1\" class=\"dataframe\">\n",
       "  <thead>\n",
       "    <tr style=\"text-align: right;\">\n",
       "      <th></th>\n",
       "      <th>id</th>\n",
       "    </tr>\n",
       "  </thead>\n",
       "  <tbody>\n",
       "    <tr>\n",
       "      <th>0</th>\n",
       "      <td>10002998.0</td>\n",
       "    </tr>\n",
       "    <tr>\n",
       "      <th>1</th>\n",
       "      <td>10003172.0</td>\n",
       "    </tr>\n",
       "    <tr>\n",
       "      <th>2</th>\n",
       "      <td>20004712.0</td>\n",
       "    </tr>\n",
       "    <tr>\n",
       "      <th>3</th>\n",
       "      <td>20004205.0</td>\n",
       "    </tr>\n",
       "    <tr>\n",
       "      <th>4</th>\n",
       "      <td>20000346.0</td>\n",
       "    </tr>\n",
       "  </tbody>\n",
       "</table>\n",
       "</div>"
      ],
      "text/plain": [
       "           id\n",
       "0  10002998.0\n",
       "1  10003172.0\n",
       "2  20004712.0\n",
       "3  20004205.0\n",
       "4  20000346.0"
      ]
     },
     "execution_count": 6,
     "metadata": {},
     "output_type": "execute_result"
    }
   ],
   "source": [
    "test.head()"
   ]
  },
  {
   "cell_type": "code",
   "execution_count": 7,
   "id": "71d4f368",
   "metadata": {
    "execution": {
     "iopub.execute_input": "2022-10-22T22:05:05.358866Z",
     "iopub.status.busy": "2022-10-22T22:05:05.358555Z",
     "iopub.status.idle": "2022-10-22T22:05:05.363984Z",
     "shell.execute_reply": "2022-10-22T22:05:05.363073Z"
    },
    "papermill": {
     "duration": 0.018018,
     "end_time": "2022-10-22T22:05:05.366133",
     "exception": false,
     "start_time": "2022-10-22T22:05:05.348115",
     "status": "completed"
    },
    "tags": []
   },
   "outputs": [],
   "source": [
    "# This function adds an extra column having the path of the images\n",
    "def append_path(df):\n",
    "    target_str = []\n",
    "    for i in range(len(df)):\n",
    "        target_str.append(str(df['id'][i]))\n",
    "    for i in range(len(df)):\n",
    "        target_str[i] = target_str[i].replace('.0', '.tif') \n",
    "        target_str[i] = '/kaggle/input/concetto22/concetto_CDT/concetto_CDT/'+target_str[i]\n",
    "    df['path'] = target_str\n",
    "    return df"
   ]
  },
  {
   "cell_type": "code",
   "execution_count": 8,
   "id": "84422bb8",
   "metadata": {
    "execution": {
     "iopub.execute_input": "2022-10-22T22:05:05.386138Z",
     "iopub.status.busy": "2022-10-22T22:05:05.385874Z",
     "iopub.status.idle": "2022-10-22T22:05:05.415880Z",
     "shell.execute_reply": "2022-10-22T22:05:05.414927Z"
    },
    "papermill": {
     "duration": 0.04218,
     "end_time": "2022-10-22T22:05:05.417749",
     "exception": false,
     "start_time": "2022-10-22T22:05:05.375569",
     "status": "completed"
    },
    "tags": []
   },
   "outputs": [
    {
     "data": {
      "text/html": [
       "<div>\n",
       "<style scoped>\n",
       "    .dataframe tbody tr th:only-of-type {\n",
       "        vertical-align: middle;\n",
       "    }\n",
       "\n",
       "    .dataframe tbody tr th {\n",
       "        vertical-align: top;\n",
       "    }\n",
       "\n",
       "    .dataframe thead th {\n",
       "        text-align: right;\n",
       "    }\n",
       "</style>\n",
       "<table border=\"1\" class=\"dataframe\">\n",
       "  <thead>\n",
       "    <tr style=\"text-align: right;\">\n",
       "      <th></th>\n",
       "      <th>id</th>\n",
       "      <th>tar</th>\n",
       "      <th>path</th>\n",
       "    </tr>\n",
       "  </thead>\n",
       "  <tbody>\n",
       "    <tr>\n",
       "      <th>0</th>\n",
       "      <td>20002859.0</td>\n",
       "      <td>5.0</td>\n",
       "      <td>/kaggle/input/concetto22/concetto_CDT/concetto...</td>\n",
       "    </tr>\n",
       "    <tr>\n",
       "      <th>1</th>\n",
       "      <td>10011157.0</td>\n",
       "      <td>5.0</td>\n",
       "      <td>/kaggle/input/concetto22/concetto_CDT/concetto...</td>\n",
       "    </tr>\n",
       "    <tr>\n",
       "      <th>2</th>\n",
       "      <td>10011996.0</td>\n",
       "      <td>5.0</td>\n",
       "      <td>/kaggle/input/concetto22/concetto_CDT/concetto...</td>\n",
       "    </tr>\n",
       "    <tr>\n",
       "      <th>3</th>\n",
       "      <td>10000364.0</td>\n",
       "      <td>5.0</td>\n",
       "      <td>/kaggle/input/concetto22/concetto_CDT/concetto...</td>\n",
       "    </tr>\n",
       "    <tr>\n",
       "      <th>4</th>\n",
       "      <td>20004294.0</td>\n",
       "      <td>3.0</td>\n",
       "      <td>/kaggle/input/concetto22/concetto_CDT/concetto...</td>\n",
       "    </tr>\n",
       "  </tbody>\n",
       "</table>\n",
       "</div>"
      ],
      "text/plain": [
       "           id  tar                                               path\n",
       "0  20002859.0  5.0  /kaggle/input/concetto22/concetto_CDT/concetto...\n",
       "1  10011157.0  5.0  /kaggle/input/concetto22/concetto_CDT/concetto...\n",
       "2  10011996.0  5.0  /kaggle/input/concetto22/concetto_CDT/concetto...\n",
       "3  10000364.0  5.0  /kaggle/input/concetto22/concetto_CDT/concetto...\n",
       "4  20004294.0  3.0  /kaggle/input/concetto22/concetto_CDT/concetto..."
      ]
     },
     "execution_count": 8,
     "metadata": {},
     "output_type": "execute_result"
    }
   ],
   "source": [
    "train = append_path(train)\n",
    "train.head()"
   ]
  },
  {
   "cell_type": "code",
   "execution_count": 9,
   "id": "f680db05",
   "metadata": {
    "execution": {
     "iopub.execute_input": "2022-10-22T22:05:05.438512Z",
     "iopub.status.busy": "2022-10-22T22:05:05.437762Z",
     "iopub.status.idle": "2022-10-22T22:05:05.451179Z",
     "shell.execute_reply": "2022-10-22T22:05:05.450243Z"
    },
    "papermill": {
     "duration": 0.025703,
     "end_time": "2022-10-22T22:05:05.453113",
     "exception": false,
     "start_time": "2022-10-22T22:05:05.427410",
     "status": "completed"
    },
    "tags": []
   },
   "outputs": [
    {
     "data": {
      "text/html": [
       "<div>\n",
       "<style scoped>\n",
       "    .dataframe tbody tr th:only-of-type {\n",
       "        vertical-align: middle;\n",
       "    }\n",
       "\n",
       "    .dataframe tbody tr th {\n",
       "        vertical-align: top;\n",
       "    }\n",
       "\n",
       "    .dataframe thead th {\n",
       "        text-align: right;\n",
       "    }\n",
       "</style>\n",
       "<table border=\"1\" class=\"dataframe\">\n",
       "  <thead>\n",
       "    <tr style=\"text-align: right;\">\n",
       "      <th></th>\n",
       "      <th>id</th>\n",
       "      <th>path</th>\n",
       "    </tr>\n",
       "  </thead>\n",
       "  <tbody>\n",
       "    <tr>\n",
       "      <th>0</th>\n",
       "      <td>10002998.0</td>\n",
       "      <td>/kaggle/input/concetto22/concetto_CDT/concetto...</td>\n",
       "    </tr>\n",
       "    <tr>\n",
       "      <th>1</th>\n",
       "      <td>10003172.0</td>\n",
       "      <td>/kaggle/input/concetto22/concetto_CDT/concetto...</td>\n",
       "    </tr>\n",
       "    <tr>\n",
       "      <th>2</th>\n",
       "      <td>20004712.0</td>\n",
       "      <td>/kaggle/input/concetto22/concetto_CDT/concetto...</td>\n",
       "    </tr>\n",
       "    <tr>\n",
       "      <th>3</th>\n",
       "      <td>20004205.0</td>\n",
       "      <td>/kaggle/input/concetto22/concetto_CDT/concetto...</td>\n",
       "    </tr>\n",
       "    <tr>\n",
       "      <th>4</th>\n",
       "      <td>20000346.0</td>\n",
       "      <td>/kaggle/input/concetto22/concetto_CDT/concetto...</td>\n",
       "    </tr>\n",
       "  </tbody>\n",
       "</table>\n",
       "</div>"
      ],
      "text/plain": [
       "           id                                               path\n",
       "0  10002998.0  /kaggle/input/concetto22/concetto_CDT/concetto...\n",
       "1  10003172.0  /kaggle/input/concetto22/concetto_CDT/concetto...\n",
       "2  20004712.0  /kaggle/input/concetto22/concetto_CDT/concetto...\n",
       "3  20004205.0  /kaggle/input/concetto22/concetto_CDT/concetto...\n",
       "4  20000346.0  /kaggle/input/concetto22/concetto_CDT/concetto..."
      ]
     },
     "execution_count": 9,
     "metadata": {},
     "output_type": "execute_result"
    }
   ],
   "source": [
    "test = append_path(test)\n",
    "test.head()"
   ]
  },
  {
   "cell_type": "markdown",
   "id": "c30b589d",
   "metadata": {
    "papermill": {
     "duration": 0.009506,
     "end_time": "2022-10-22T22:05:05.473097",
     "exception": false,
     "start_time": "2022-10-22T22:05:05.463591",
     "status": "completed"
    },
    "tags": []
   },
   "source": [
    "#### Data visualization"
   ]
  },
  {
   "cell_type": "code",
   "execution_count": 10,
   "id": "3cb8d193",
   "metadata": {
    "execution": {
     "iopub.execute_input": "2022-10-22T22:05:05.494173Z",
     "iopub.status.busy": "2022-10-22T22:05:05.493392Z",
     "iopub.status.idle": "2022-10-22T22:05:06.986000Z",
     "shell.execute_reply": "2022-10-22T22:05:06.985067Z"
    },
    "papermill": {
     "duration": 1.50515,
     "end_time": "2022-10-22T22:05:06.988002",
     "exception": false,
     "start_time": "2022-10-22T22:05:05.482852",
     "status": "completed"
    },
    "tags": []
   },
   "outputs": [
    {
     "data": {
      "text/plain": [
       "<matplotlib.image.AxesImage at 0x7fb220e22f10>"
      ]
     },
     "execution_count": 10,
     "metadata": {},
     "output_type": "execute_result"
    },
    {
     "data": {
      "image/png": "[encoded data removed]",
      "text/plain": [
       "<Figure size 432x288 with 1 Axes>"
      ]
     },
     "metadata": {
      "needs_background": "light"
     },
     "output_type": "display_data"
    }
   ],
   "source": [
    "plt.imshow(cv2.imread(train['path'][0]))"
   ]
  },
  {
   "cell_type": "code",
   "execution_count": 11,
   "id": "5f195c4b",
   "metadata": {
    "execution": {
     "iopub.execute_input": "2022-10-22T22:05:07.009831Z",
     "iopub.status.busy": "2022-10-22T22:05:07.009527Z",
     "iopub.status.idle": "2022-10-22T22:05:07.022305Z",
     "shell.execute_reply": "2022-10-22T22:05:07.021470Z"
    },
    "papermill": {
     "duration": 0.025935,
     "end_time": "2022-10-22T22:05:07.024271",
     "exception": false,
     "start_time": "2022-10-22T22:05:06.998336",
     "status": "completed"
    },
    "tags": []
   },
   "outputs": [
    {
     "data": {
      "text/plain": [
       "5.0    977\n",
       "4.0    954\n",
       "3.0    398\n",
       "2.0    162\n",
       "1.0     43\n",
       "0.0      6\n",
       "Name: tar, dtype: int64"
      ]
     },
     "execution_count": 11,
     "metadata": {},
     "output_type": "execute_result"
    }
   ],
   "source": [
    "#data imbalance \n",
    "train['tar'].value_counts()"
   ]
  },
  {
   "cell_type": "code",
   "execution_count": 12,
   "id": "79b8725f",
   "metadata": {
    "execution": {
     "iopub.execute_input": "2022-10-22T22:05:07.046063Z",
     "iopub.status.busy": "2022-10-22T22:05:07.045728Z",
     "iopub.status.idle": "2022-10-22T22:05:07.052044Z",
     "shell.execute_reply": "2022-10-22T22:05:07.051152Z"
    },
    "papermill": {
     "duration": 0.01938,
     "end_time": "2022-10-22T22:05:07.053964",
     "exception": false,
     "start_time": "2022-10-22T22:05:07.034584",
     "status": "completed"
    },
    "tags": []
   },
   "outputs": [
    {
     "data": {
      "text/plain": [
       "array([0., 1., 2., 3., 4., 5.])"
      ]
     },
     "execution_count": 12,
     "metadata": {},
     "output_type": "execute_result"
    }
   ],
   "source": [
    "np.unique(train['tar'])"
   ]
  },
  {
   "cell_type": "code",
   "execution_count": 13,
   "id": "21253cbb",
   "metadata": {
    "execution": {
     "iopub.execute_input": "2022-10-22T22:05:07.076197Z",
     "iopub.status.busy": "2022-10-22T22:05:07.075831Z",
     "iopub.status.idle": "2022-10-22T22:05:07.083875Z",
     "shell.execute_reply": "2022-10-22T22:05:07.082975Z"
    },
    "papermill": {
     "duration": 0.021536,
     "end_time": "2022-10-22T22:05:07.085805",
     "exception": false,
     "start_time": "2022-10-22T22:05:07.064269",
     "status": "completed"
    },
    "tags": []
   },
   "outputs": [
    {
     "data": {
      "text/plain": [
       "977"
      ]
     },
     "execution_count": 13,
     "metadata": {},
     "output_type": "execute_result"
    }
   ],
   "source": [
    "train['tar'].value_counts().max()"
   ]
  },
  {
   "cell_type": "markdown",
   "id": "3d4e0d49",
   "metadata": {
    "papermill": {
     "duration": 0.010174,
     "end_time": "2022-10-22T22:05:07.106357",
     "exception": false,
     "start_time": "2022-10-22T22:05:07.096183",
     "status": "completed"
    },
    "tags": []
   },
   "source": [
    "#### Splitting the train data into train and val set"
   ]
  },
  {
   "cell_type": "code",
   "execution_count": 14,
   "id": "7c7bbfbb",
   "metadata": {
    "execution": {
     "iopub.execute_input": "2022-10-22T22:05:07.133899Z",
     "iopub.status.busy": "2022-10-22T22:05:07.132256Z",
     "iopub.status.idle": "2022-10-22T22:05:07.144921Z",
     "shell.execute_reply": "2022-10-22T22:05:07.144060Z"
    },
    "papermill": {
     "duration": 0.025753,
     "end_time": "2022-10-22T22:05:07.146845",
     "exception": false,
     "start_time": "2022-10-22T22:05:07.121092",
     "status": "completed"
    },
    "tags": []
   },
   "outputs": [],
   "source": [
    "X = train.drop(['tar'], axis=1)\n",
    "y = train['tar']\n",
    "x_train, x_val, y_train, y_val = train_test_split(X, y, test_size=0.1, random_state=42, stratify = y)"
   ]
  },
  {
   "cell_type": "code",
   "execution_count": 15,
   "id": "277545fc",
   "metadata": {
    "execution": {
     "iopub.execute_input": "2022-10-22T22:05:07.168932Z",
     "iopub.status.busy": "2022-10-22T22:05:07.168139Z",
     "iopub.status.idle": "2022-10-22T22:05:07.181700Z",
     "shell.execute_reply": "2022-10-22T22:05:07.180902Z"
    },
    "papermill": {
     "duration": 0.026648,
     "end_time": "2022-10-22T22:05:07.183666",
     "exception": false,
     "start_time": "2022-10-22T22:05:07.157018",
     "status": "completed"
    },
    "tags": []
   },
   "outputs": [],
   "source": [
    "train_data = pd.merge(x_train, y_train, right_index=True, left_index=True)\n",
    "val_data = pd.merge(x_val, y_val, right_index=True, left_index=True)"
   ]
  },
  {
   "cell_type": "code",
   "execution_count": 16,
   "id": "261a7bae",
   "metadata": {
    "execution": {
     "iopub.execute_input": "2022-10-22T22:05:07.206373Z",
     "iopub.status.busy": "2022-10-22T22:05:07.204897Z",
     "iopub.status.idle": "2022-10-22T22:05:07.210435Z",
     "shell.execute_reply": "2022-10-22T22:05:07.209572Z"
    },
    "papermill": {
     "duration": 0.01849,
     "end_time": "2022-10-22T22:05:07.212354",
     "exception": false,
     "start_time": "2022-10-22T22:05:07.193864",
     "status": "completed"
    },
    "tags": []
   },
   "outputs": [],
   "source": [
    "#defining a configuration\n",
    "\n",
    "class CFG:\n",
    "    model_name = 'resnet18'\n",
    "    target_size = 6\n",
    "    size = 256\n",
    "    batch_size = 64\n",
    "    epochs = 10\n",
    "    num_workers = 2\n",
    "    lr = 1e-3\n",
    "    weight_decay = 1e-2\n",
    "    train = True\n",
    "    target_col = 'tar'"
   ]
  },
  {
   "cell_type": "markdown",
   "id": "6b0c4d3b",
   "metadata": {
    "papermill": {
     "duration": 0.009984,
     "end_time": "2022-10-22T22:05:07.232471",
     "exception": false,
     "start_time": "2022-10-22T22:05:07.222487",
     "status": "completed"
    },
    "tags": []
   },
   "source": [
    "#### Dataset creation \n",
    "Creating a custom dataset for training and test data which takes path of images, transforms it and converts the image to tensors for further processing."
   ]
  },
  {
   "cell_type": "code",
   "execution_count": 17,
   "id": "2a041f51",
   "metadata": {
    "execution": {
     "iopub.execute_input": "2022-10-22T22:05:07.254469Z",
     "iopub.status.busy": "2022-10-22T22:05:07.253644Z",
     "iopub.status.idle": "2022-10-22T22:05:07.263381Z",
     "shell.execute_reply": "2022-10-22T22:05:07.262567Z"
    },
    "papermill": {
     "duration": 0.022782,
     "end_time": "2022-10-22T22:05:07.265338",
     "exception": false,
     "start_time": "2022-10-22T22:05:07.242556",
     "status": "completed"
    },
    "tags": []
   },
   "outputs": [],
   "source": [
    "class TrainDataset(Dataset):\n",
    "    def __init__(self, df, transform=None):\n",
    "        self.df = df\n",
    "        self.file_names = df['path'].values\n",
    "        self.labels = df['tar'].values\n",
    "        self.transform = transform\n",
    "        \n",
    "    def __len__(self):\n",
    "        return len(self.df)\n",
    "\n",
    "    def __getitem__(self, idx):\n",
    "        file_name = self.file_names[idx]\n",
    "        file_path = file_name\n",
    "        image = cv2.imread(file_path)\n",
    "        image = cv2.cvtColor(image, cv2.COLOR_BGR2RGB)\n",
    "        if self.transform:\n",
    "            augmented = self.transform(image=image)\n",
    "            image = augmented['image']\n",
    "        label = torch.tensor(self.labels[idx]).long()\n",
    "        return image, label\n",
    "    \n",
    "\n",
    "class TestDataset(Dataset):\n",
    "    def __init__(self, df, transform=None):\n",
    "        self.df = df\n",
    "        self.file_names = df['path'].values\n",
    "        self.transform = transform\n",
    "        \n",
    "    def __len__(self):\n",
    "        return len(self.df)\n",
    "\n",
    "    def __getitem__(self, idx):\n",
    "        file_name = self.file_names[idx]\n",
    "        file_path = file_name\n",
    "        image = cv2.imread(file_path)\n",
    "        image = cv2.cvtColor(image, cv2.COLOR_BGR2RGB)\n",
    "        if self.transform:\n",
    "            augmented = self.transform(image=image)\n",
    "            image = augmented['image']\n",
    "        return image"
   ]
  },
  {
   "cell_type": "markdown",
   "id": "274c91ec",
   "metadata": {
    "papermill": {
     "duration": 0.009958,
     "end_time": "2022-10-22T22:05:07.285413",
     "exception": false,
     "start_time": "2022-10-22T22:05:07.275455",
     "status": "completed"
    },
    "tags": []
   },
   "source": [
    "# Transformation"
   ]
  },
  {
   "cell_type": "markdown",
   "id": "b1efa9d7",
   "metadata": {
    "papermill": {
     "duration": 0.010435,
     "end_time": "2022-10-22T22:05:07.306198",
     "exception": false,
     "start_time": "2022-10-22T22:05:07.295763",
     "status": "completed"
    },
    "tags": []
   },
   "source": [
    "#### Augmentation\n",
    "Applying some necessary augmentations like resizing the image to the size accepted by model, Normalizing the tensors.\n",
    "Albumentations like RandomResizedCrop and HorizontalFlip are used to augment the dataset.\n",
    "Find more albumentations [here](https://github.com/pytorch/vision/blob/main/torchvision/transforms/transforms.py)"
   ]
  },
  {
   "cell_type": "code",
   "execution_count": 18,
   "id": "b7bec5cf",
   "metadata": {
    "execution": {
     "iopub.execute_input": "2022-10-22T22:05:07.328208Z",
     "iopub.status.busy": "2022-10-22T22:05:07.327859Z",
     "iopub.status.idle": "2022-10-22T22:05:07.334573Z",
     "shell.execute_reply": "2022-10-22T22:05:07.333639Z"
    },
    "papermill": {
     "duration": 0.020235,
     "end_time": "2022-10-22T22:05:07.336616",
     "exception": false,
     "start_time": "2022-10-22T22:05:07.316381",
     "status": "completed"
    },
    "tags": []
   },
   "outputs": [],
   "source": [
    "# Transforms\n",
    "def get_transforms(*, data):\n",
    "    \n",
    "    if data == 'train':\n",
    "        return A.Compose([\n",
    "            A.Resize(CFG.size, CFG.size),\n",
    "            A.RandomResizedCrop(CFG.size, CFG.size),\n",
    "            A.HorizontalFlip(p=0.5),\n",
    "            A.Normalize(\n",
    "                mean=[0.485, 0.456, 0.406],\n",
    "                std=[0.229, 0.224, 0.225],\n",
    "            ),\n",
    "            ToTensorV2(),\n",
    "        ])\n",
    "\n",
    "    elif data == 'valid':\n",
    "        return A.Compose([\n",
    "            A.Resize(CFG.size, CFG.size),\n",
    "            A.Normalize(\n",
    "                mean=[0.485, 0.456, 0.406],\n",
    "                std=[0.229, 0.224, 0.225],\n",
    "            ),\n",
    "            ToTensorV2(),\n",
    "        ])"
   ]
  },
  {
   "cell_type": "markdown",
   "id": "ef2d0b43",
   "metadata": {
    "papermill": {
     "duration": 0.010014,
     "end_time": "2022-10-22T22:05:07.356823",
     "exception": false,
     "start_time": "2022-10-22T22:05:07.346809",
     "status": "completed"
    },
    "tags": []
   },
   "source": [
    "# Model"
   ]
  },
  {
   "cell_type": "code",
   "execution_count": 19,
   "id": "6dad00ef",
   "metadata": {
    "execution": {
     "iopub.execute_input": "2022-10-22T22:05:07.379475Z",
     "iopub.status.busy": "2022-10-22T22:05:07.378566Z",
     "iopub.status.idle": "2022-10-22T22:05:07.385261Z",
     "shell.execute_reply": "2022-10-22T22:05:07.384372Z"
    },
    "papermill": {
     "duration": 0.020256,
     "end_time": "2022-10-22T22:05:07.387347",
     "exception": false,
     "start_time": "2022-10-22T22:05:07.367091",
     "status": "completed"
    },
    "tags": []
   },
   "outputs": [],
   "source": [
    "class CustomNet(nn.Module):\n",
    "    def __init__(self, model_name=CFG.model_name, pretrained=False):\n",
    "        super().__init__()\n",
    "        self.model = timm.create_model(CFG.model_name, pretrained=pretrained)\n",
    "        #print(self.model.default_cfg[\"classifier\"])\n",
    "        n_features = self.model.fc.in_features #either fc or classifier , check using above line\n",
    "        self.model.classifier = nn.Linear(n_features, CFG.target_size)\n",
    "\n",
    "    def forward(self, x):\n",
    "        x = self.model(x)\n",
    "        return x\n",
    "    "
   ]
  },
  {
   "cell_type": "code",
   "execution_count": 20,
   "id": "fb61d852",
   "metadata": {
    "execution": {
     "iopub.execute_input": "2022-10-22T22:05:07.410658Z",
     "iopub.status.busy": "2022-10-22T22:05:07.409125Z",
     "iopub.status.idle": "2022-10-22T22:05:11.085816Z",
     "shell.execute_reply": "2022-10-22T22:05:11.084842Z"
    },
    "papermill": {
     "duration": 3.6905,
     "end_time": "2022-10-22T22:05:11.088358",
     "exception": false,
     "start_time": "2022-10-22T22:05:07.397858",
     "status": "completed"
    },
    "tags": []
   },
   "outputs": [
    {
     "name": "stderr",
     "output_type": "stream",
     "text": [
      "Downloading: \"https://download.pytorch.org/models/resnet18-5c106cde.pth\" to /root/.cache/torch/hub/checkpoints/resnet18-5c106cde.pth\n"
     ]
    }
   ],
   "source": [
    "model = CustomNet(model_name=CFG.model_name, pretrained=True)"
   ]
  },
  {
   "cell_type": "markdown",
   "id": "0757c10c",
   "metadata": {
    "papermill": {
     "duration": 0.010162,
     "end_time": "2022-10-22T22:05:11.109118",
     "exception": false,
     "start_time": "2022-10-22T22:05:11.098956",
     "status": "completed"
    },
    "tags": []
   },
   "source": [
    "## Loss Function\n",
    "The loss function used, here [CrossEntropyLoss.](https://pytorch.org/docs/stable/generated/torch.nn.CrossEntropyLoss.html)"
   ]
  },
  {
   "cell_type": "code",
   "execution_count": 21,
   "id": "0172f7ba",
   "metadata": {
    "execution": {
     "iopub.execute_input": "2022-10-22T22:05:11.131248Z",
     "iopub.status.busy": "2022-10-22T22:05:11.130618Z",
     "iopub.status.idle": "2022-10-22T22:05:11.135746Z",
     "shell.execute_reply": "2022-10-22T22:05:11.134917Z"
    },
    "papermill": {
     "duration": 0.018521,
     "end_time": "2022-10-22T22:05:11.137853",
     "exception": false,
     "start_time": "2022-10-22T22:05:11.119332",
     "status": "completed"
    },
    "tags": []
   },
   "outputs": [],
   "source": [
    "def get_criterion():\n",
    "    criterion = nn.CrossEntropyLoss()\n",
    "    return criterion"
   ]
  },
  {
   "cell_type": "code",
   "execution_count": 22,
   "id": "080df681",
   "metadata": {
    "execution": {
     "iopub.execute_input": "2022-10-22T22:05:11.159582Z",
     "iopub.status.busy": "2022-10-22T22:05:11.159284Z",
     "iopub.status.idle": "2022-10-22T22:05:11.163730Z",
     "shell.execute_reply": "2022-10-22T22:05:11.162834Z"
    },
    "papermill": {
     "duration": 0.017689,
     "end_time": "2022-10-22T22:05:11.165745",
     "exception": false,
     "start_time": "2022-10-22T22:05:11.148056",
     "status": "completed"
    },
    "tags": []
   },
   "outputs": [],
   "source": [
    "def get_score(y_true, y_pred):\n",
    "    return accuracy_score(y_true, y_pred)"
   ]
  },
  {
   "cell_type": "markdown",
   "id": "9af39cae",
   "metadata": {
    "papermill": {
     "duration": 0.010078,
     "end_time": "2022-10-22T22:05:11.185996",
     "exception": false,
     "start_time": "2022-10-22T22:05:11.175918",
     "status": "completed"
    },
    "tags": []
   },
   "source": [
    "## Optimizer"
   ]
  },
  {
   "cell_type": "code",
   "execution_count": 23,
   "id": "0cb5f7aa",
   "metadata": {
    "execution": {
     "iopub.execute_input": "2022-10-22T22:05:11.207961Z",
     "iopub.status.busy": "2022-10-22T22:05:11.207628Z",
     "iopub.status.idle": "2022-10-22T22:05:11.212841Z",
     "shell.execute_reply": "2022-10-22T22:05:11.211861Z"
    },
    "papermill": {
     "duration": 0.019007,
     "end_time": "2022-10-22T22:05:11.215215",
     "exception": false,
     "start_time": "2022-10-22T22:05:11.196208",
     "status": "completed"
    },
    "tags": []
   },
   "outputs": [],
   "source": [
    "def get_optimizer(model):\n",
    "    optimizer = Adam(model.parameters(), lr=CFG.lr, weight_decay=CFG.weight_decay, amsgrad=False)\n",
    "    return optimizer"
   ]
  },
  {
   "cell_type": "markdown",
   "id": "fe7fe46c",
   "metadata": {
    "papermill": {
     "duration": 0.010244,
     "end_time": "2022-10-22T22:05:11.235749",
     "exception": false,
     "start_time": "2022-10-22T22:05:11.225505",
     "status": "completed"
    },
    "tags": []
   },
   "source": []
  },
  {
   "cell_type": "markdown",
   "id": "fa922987",
   "metadata": {
    "papermill": {
     "duration": 0.010121,
     "end_time": "2022-10-22T22:05:11.256177",
     "exception": false,
     "start_time": "2022-10-22T22:05:11.246056",
     "status": "completed"
    },
    "tags": []
   },
   "source": [
    "## Scheduler\n",
    "It is used for adjusting the learning rate(LR decay) between epochs as the training progresses. Read about more schedulers [here](https://pytorch.org/docs/stable/optim.html#)"
   ]
  },
  {
   "cell_type": "code",
   "execution_count": 24,
   "id": "4ff6023c",
   "metadata": {
    "execution": {
     "iopub.execute_input": "2022-10-22T22:05:11.278789Z",
     "iopub.status.busy": "2022-10-22T22:05:11.278449Z",
     "iopub.status.idle": "2022-10-22T22:05:11.283026Z",
     "shell.execute_reply": "2022-10-22T22:05:11.282093Z"
    },
    "papermill": {
     "duration": 0.018608,
     "end_time": "2022-10-22T22:05:11.285085",
     "exception": false,
     "start_time": "2022-10-22T22:05:11.266477",
     "status": "completed"
    },
    "tags": []
   },
   "outputs": [],
   "source": [
    "def get_scheduler(optimizer):\n",
    "    scheduler = StepLR(optimizer, step_size=2, gamma=0.634, verbose=True)\n",
    "    return scheduler"
   ]
  },
  {
   "cell_type": "markdown",
   "id": "f22b3b7a",
   "metadata": {
    "papermill": {
     "duration": 0.010037,
     "end_time": "2022-10-22T22:05:11.305283",
     "exception": false,
     "start_time": "2022-10-22T22:05:11.295246",
     "status": "completed"
    },
    "tags": []
   },
   "source": [
    "## Utility Functions"
   ]
  },
  {
   "cell_type": "code",
   "execution_count": 25,
   "id": "5e0b8dd8",
   "metadata": {
    "execution": {
     "iopub.execute_input": "2022-10-22T22:05:11.327145Z",
     "iopub.status.busy": "2022-10-22T22:05:11.326871Z",
     "iopub.status.idle": "2022-10-22T22:05:11.339631Z",
     "shell.execute_reply": "2022-10-22T22:05:11.338751Z"
    },
    "papermill": {
     "duration": 0.026329,
     "end_time": "2022-10-22T22:05:11.341765",
     "exception": false,
     "start_time": "2022-10-22T22:05:11.315436",
     "status": "completed"
    },
    "tags": []
   },
   "outputs": [],
   "source": [
    "class AverageMeter(object):\n",
    "    \"\"\"Computes and stores the average and current value\"\"\"\n",
    "    def __init__(self):\n",
    "        self.reset()\n",
    "\n",
    "    def reset(self):\n",
    "        self.val = 0\n",
    "        self.avg = 0\n",
    "        self.sum = 0\n",
    "        self.count = 0\n",
    "\n",
    "    def update(self, val, n=1):\n",
    "        self.val = val\n",
    "        self.sum += val * n\n",
    "        self.count += n\n",
    "        self.avg = self.sum / self.count\n",
    "        \n",
    "def train_fn(train_loader, model, criterion, optimizer, epoch, scheduler, device):\n",
    "    model.train() # switch to training mode\n",
    "    running_loss = 0\n",
    "    count = 0\n",
    "    for (images, labels) in tqdm(train_loader):\n",
    "        images = images.to(device)\n",
    "        labels = labels.to(device)\n",
    "        y_preds = model(images)\n",
    "        \n",
    "        loss = criterion(y_preds, labels)\n",
    "        running_loss += loss.item()*labels.shape[0]\n",
    "        count += 1\n",
    "        \n",
    "        loss.backward()\n",
    "        optimizer.step()\n",
    "        optimizer.zero_grad()\n",
    "        \n",
    "    return running_loss/count\n",
    "\n",
    "\n",
    "def valid_fn(valid_loader, model, criterion, device):\n",
    "    model.eval() # switch to evaluation mode\n",
    "    preds = []\n",
    "    running_loss = 0\n",
    "    count = 0\n",
    "    \n",
    "    for (images, labels) in tqdm(valid_loader):\n",
    "        images = images.to(device)\n",
    "        labels = labels.to(device)\n",
    "        # compute loss\n",
    "        with torch.no_grad():\n",
    "            y_preds = model(images)\n",
    "        loss = criterion(y_preds, labels)\n",
    "        running_loss += loss.item()*labels.shape[0]\n",
    "        count += 1\n",
    "        # record accuracy\n",
    "        preds.append(y_preds.softmax(1).to('cpu').numpy())\n",
    "    predictions = np.concatenate(preds)\n",
    "    \n",
    "    return (running_loss/count), predictions\n",
    "\n",
    "\n",
    "def test_fun(test_loader, model, device):\n",
    "    model.eval()\n",
    "    preds = []\n",
    "    test_df = pd.DataFrame()\n",
    "    for step, (images) in enumerate(test_loader):\n",
    "        images = images.to(device)\n",
    "        with torch.no_grad():\n",
    "            y_preds = model(images)\n",
    "        preds.append(y_preds.softmax(1).to('cpu').numpy())\n",
    "    predictions = np.concatenate(preds)\n",
    "    pred = predictions.argmax(1)\n",
    "    return pred"
   ]
  },
  {
   "cell_type": "markdown",
   "id": "b8fae693",
   "metadata": {
    "papermill": {
     "duration": 0.010054,
     "end_time": "2022-10-22T22:05:11.362057",
     "exception": false,
     "start_time": "2022-10-22T22:05:11.352003",
     "status": "completed"
    },
    "tags": []
   },
   "source": [
    "# Train loop"
   ]
  },
  {
   "cell_type": "code",
   "execution_count": 26,
   "id": "bf29e5e1",
   "metadata": {
    "execution": {
     "iopub.execute_input": "2022-10-22T22:05:11.384128Z",
     "iopub.status.busy": "2022-10-22T22:05:11.383831Z",
     "iopub.status.idle": "2022-10-22T22:05:11.394979Z",
     "shell.execute_reply": "2022-10-22T22:05:11.394137Z"
    },
    "papermill": {
     "duration": 0.024611,
     "end_time": "2022-10-22T22:05:11.396890",
     "exception": false,
     "start_time": "2022-10-22T22:05:11.372279",
     "status": "completed"
    },
    "tags": []
   },
   "outputs": [],
   "source": [
    "# Train loop\n",
    "def train_loop(train_data, valid_data):\n",
    "    \n",
    "    # create dataset\n",
    "    train_dataset = TrainDataset(train_data, transform=get_transforms(data='train'))\n",
    "    valid_dataset = TrainDataset(valid_data, transform=get_transforms(data='valid'))\n",
    "\n",
    "    # create dataloader\n",
    "    train_loader = DataLoader(train_dataset, batch_size=CFG.batch_size, shuffle=True, \n",
    "                              num_workers=CFG.num_workers, pin_memory=True, drop_last=True)\n",
    "    valid_loader = DataLoader(valid_dataset, batch_size=CFG.batch_size, shuffle=False, \n",
    "                              num_workers=CFG.num_workers, pin_memory=True, drop_last=False)\n",
    "\n",
    "    # create model and transfer to device\n",
    "    model = CustomNet(CFG.model_name, pretrained=True)\n",
    "    model.to(device)\n",
    "    \n",
    "    # select optimizer, scheduler and criterion\n",
    "    optimizer = get_optimizer(model)\n",
    "    scheduler = get_scheduler(optimizer)\n",
    "    criterion = get_criterion()\n",
    "\n",
    "    best_score = -1.0\n",
    "    best_loss = np.inf\n",
    "    \n",
    "    # start training\n",
    "    for epoch in range(CFG.epochs):\n",
    "        # train\n",
    "        avg_loss = train_fn(train_loader, model, criterion, optimizer, epoch, scheduler, device)\n",
    "        # validation\n",
    "        avg_val_loss, preds = valid_fn(valid_loader, model, criterion, device)\n",
    "        \n",
    "#         valid_labels = valid_folds[CFG.target_col].values\n",
    "        valid_labels = valid_data['tar']\n",
    "        \n",
    "        scheduler.step()\n",
    "\n",
    "        # scoring\n",
    "        score = get_score(valid_labels, preds.argmax(1))\n",
    "        print(\"score: \", score)\n",
    "\n",
    "        # code for saving the best model\n",
    "        if score > best_score:\n",
    "            print('Score Improved')\n",
    "            best_score = score\n",
    "            print(f'Epoch {epoch+1} - Save Best Score: {best_score:.4f}')\n",
    "            torch.save({'model': model.state_dict(), \n",
    "                        'preds': preds,\n",
    "                        'optimizer': optimizer.state_dict(),\n",
    "                        'scheduler': scheduler.state_dict()},\n",
    "                        './'+f'{CFG.model_name}_best.pth')\n",
    "    \n",
    "    check_point = torch.load('./'+f'{CFG.model_name}_best.pth')\n",
    "    valid_data['preds'] = check_point['preds'].argmax(1)\n",
    "\n",
    "    return valid_data"
   ]
  },
  {
   "cell_type": "code",
   "execution_count": 27,
   "id": "17cbbd26",
   "metadata": {
    "execution": {
     "iopub.execute_input": "2022-10-22T22:05:11.418954Z",
     "iopub.status.busy": "2022-10-22T22:05:11.418228Z",
     "iopub.status.idle": "2022-10-22T22:05:11.423235Z",
     "shell.execute_reply": "2022-10-22T22:05:11.422330Z"
    },
    "papermill": {
     "duration": 0.01802,
     "end_time": "2022-10-22T22:05:11.425188",
     "exception": false,
     "start_time": "2022-10-22T22:05:11.407168",
     "status": "completed"
    },
    "tags": []
   },
   "outputs": [],
   "source": [
    "# main\n",
    "def main():\n",
    "    def get_result(result_df):\n",
    "        preds = result_df['preds'].values\n",
    "        labels = result_df[CFG.target_col].values\n",
    "        score = get_score(labels, preds)\n",
    "    \n",
    "    if CFG.train: \n",
    "        # train\n",
    "        df = train_loop(train_data, val_data)\n",
    "        get_result(df)"
   ]
  },
  {
   "cell_type": "code",
   "execution_count": 28,
   "id": "9215a144",
   "metadata": {
    "execution": {
     "iopub.execute_input": "2022-10-22T22:05:11.447065Z",
     "iopub.status.busy": "2022-10-22T22:05:11.446292Z",
     "iopub.status.idle": "2022-10-22T22:22:18.121138Z",
     "shell.execute_reply": "2022-10-22T22:22:18.120031Z"
    },
    "papermill": {
     "duration": 1026.688229,
     "end_time": "2022-10-22T22:22:18.123531",
     "exception": false,
     "start_time": "2022-10-22T22:05:11.435302",
     "status": "completed"
    },
    "tags": []
   },
   "outputs": [
    {
     "name": "stdout",
     "output_type": "stream",
     "text": [
      "Adjusting learning rate of group 0 to 1.0000e-03.\n"
     ]
    },
    {
     "name": "stderr",
     "output_type": "stream",
     "text": [
      "100%|██████████| 35/35 [01:34<00:00,  2.71s/it]\n",
      "100%|██████████| 4/4 [00:11<00:00,  2.86s/it]\n"
     ]
    },
    {
     "name": "stdout",
     "output_type": "stream",
     "text": [
      "Adjusting learning rate of group 0 to 1.0000e-03.\n",
      "score:  0.4094488188976378\n",
      "Score Improved\n",
      "Epoch 1 - Save Best Score: 0.4094\n"
     ]
    },
    {
     "name": "stderr",
     "output_type": "stream",
     "text": [
      "100%|██████████| 35/35 [01:31<00:00,  2.61s/it]\n",
      "100%|██████████| 4/4 [00:10<00:00,  2.61s/it]\n"
     ]
    },
    {
     "name": "stdout",
     "output_type": "stream",
     "text": [
      "Adjusting learning rate of group 0 to 6.3400e-04.\n",
      "score:  0.44881889763779526\n",
      "Score Improved\n",
      "Epoch 2 - Save Best Score: 0.4488\n"
     ]
    },
    {
     "name": "stderr",
     "output_type": "stream",
     "text": [
      "100%|██████████| 35/35 [01:31<00:00,  2.61s/it]\n",
      "100%|██████████| 4/4 [00:10<00:00,  2.64s/it]\n"
     ]
    },
    {
     "name": "stdout",
     "output_type": "stream",
     "text": [
      "Adjusting learning rate of group 0 to 6.3400e-04.\n",
      "score:  0.43700787401574803\n"
     ]
    },
    {
     "name": "stderr",
     "output_type": "stream",
     "text": [
      "100%|██████████| 35/35 [01:31<00:00,  2.61s/it]\n",
      "100%|██████████| 4/4 [00:10<00:00,  2.67s/it]\n"
     ]
    },
    {
     "name": "stdout",
     "output_type": "stream",
     "text": [
      "Adjusting learning rate of group 0 to 4.0196e-04.\n",
      "score:  0.4448818897637795\n"
     ]
    },
    {
     "name": "stderr",
     "output_type": "stream",
     "text": [
      "100%|██████████| 35/35 [01:30<00:00,  2.59s/it]\n",
      "100%|██████████| 4/4 [00:10<00:00,  2.75s/it]\n"
     ]
    },
    {
     "name": "stdout",
     "output_type": "stream",
     "text": [
      "Adjusting learning rate of group 0 to 4.0196e-04.\n",
      "score:  0.35826771653543305\n"
     ]
    },
    {
     "name": "stderr",
     "output_type": "stream",
     "text": [
      "100%|██████████| 35/35 [01:30<00:00,  2.59s/it]\n",
      "100%|██████████| 4/4 [00:10<00:00,  2.74s/it]\n"
     ]
    },
    {
     "name": "stdout",
     "output_type": "stream",
     "text": [
      "Adjusting learning rate of group 0 to 2.5484e-04.\n",
      "score:  0.5\n",
      "Score Improved\n",
      "Epoch 6 - Save Best Score: 0.5000\n"
     ]
    },
    {
     "name": "stderr",
     "output_type": "stream",
     "text": [
      "100%|██████████| 35/35 [01:31<00:00,  2.60s/it]\n",
      "100%|██████████| 4/4 [00:10<00:00,  2.70s/it]\n"
     ]
    },
    {
     "name": "stdout",
     "output_type": "stream",
     "text": [
      "Adjusting learning rate of group 0 to 2.5484e-04.\n",
      "score:  0.41338582677165353\n"
     ]
    },
    {
     "name": "stderr",
     "output_type": "stream",
     "text": [
      "100%|██████████| 35/35 [01:31<00:00,  2.61s/it]\n",
      "100%|██████████| 4/4 [00:10<00:00,  2.68s/it]\n"
     ]
    },
    {
     "name": "stdout",
     "output_type": "stream",
     "text": [
      "Adjusting learning rate of group 0 to 1.6157e-04.\n",
      "score:  0.49606299212598426\n"
     ]
    },
    {
     "name": "stderr",
     "output_type": "stream",
     "text": [
      "100%|██████████| 35/35 [01:30<00:00,  2.58s/it]\n",
      "100%|██████████| 4/4 [00:10<00:00,  2.60s/it]\n"
     ]
    },
    {
     "name": "stdout",
     "output_type": "stream",
     "text": [
      "Adjusting learning rate of group 0 to 1.6157e-04.\n",
      "score:  0.515748031496063\n",
      "Score Improved\n",
      "Epoch 9 - Save Best Score: 0.5157\n"
     ]
    },
    {
     "name": "stderr",
     "output_type": "stream",
     "text": [
      "100%|██████████| 35/35 [01:30<00:00,  2.60s/it]\n",
      "100%|██████████| 4/4 [00:11<00:00,  2.78s/it]\n"
     ]
    },
    {
     "name": "stdout",
     "output_type": "stream",
     "text": [
      "Adjusting learning rate of group 0 to 1.0243e-04.\n",
      "score:  0.5236220472440944\n",
      "Score Improved\n",
      "Epoch 10 - Save Best Score: 0.5236\n"
     ]
    }
   ],
   "source": [
    "if __name__ == '__main__':\n",
    "    main()"
   ]
  },
  {
   "cell_type": "code",
   "execution_count": 29,
   "id": "b422cac8",
   "metadata": {
    "execution": {
     "iopub.execute_input": "2022-10-22T22:22:18.189438Z",
     "iopub.status.busy": "2022-10-22T22:22:18.188467Z",
     "iopub.status.idle": "2022-10-22T22:22:43.901093Z",
     "shell.execute_reply": "2022-10-22T22:22:43.899904Z"
    },
    "papermill": {
     "duration": 25.748009,
     "end_time": "2022-10-22T22:22:43.903874",
     "exception": false,
     "start_time": "2022-10-22T22:22:18.155865",
     "status": "completed"
    },
    "tags": []
   },
   "outputs": [],
   "source": [
    "test_dataset = TestDataset(test, transform=get_transforms(data='valid'))\n",
    "test_loader = DataLoader(test_dataset, batch_size=1, shuffle=False, \n",
    "                          num_workers=CFG.num_workers, pin_memory=True, drop_last=False)\n",
    "check_point = torch.load('./'+f'{CFG.model_name}_best.pth')\n",
    "model = CustomNet(CFG.model_name, pretrained=True)\n",
    "model.to(device)\n",
    "model.load_state_dict(check_point['model'])\n",
    "pred = test_fun(test_loader, model, device)"
   ]
  },
  {
   "cell_type": "code",
   "execution_count": 30,
   "id": "29d7fd8d",
   "metadata": {
    "execution": {
     "iopub.execute_input": "2022-10-22T22:22:43.969471Z",
     "iopub.status.busy": "2022-10-22T22:22:43.969142Z",
     "iopub.status.idle": "2022-10-22T22:22:43.975041Z",
     "shell.execute_reply": "2022-10-22T22:22:43.974062Z"
    },
    "papermill": {
     "duration": 0.040869,
     "end_time": "2022-10-22T22:22:43.977010",
     "exception": false,
     "start_time": "2022-10-22T22:22:43.936141",
     "status": "completed"
    },
    "tags": []
   },
   "outputs": [],
   "source": [
    "test['tar'] = pred"
   ]
  },
  {
   "cell_type": "code",
   "execution_count": 31,
   "id": "c969f7b6",
   "metadata": {
    "execution": {
     "iopub.execute_input": "2022-10-22T22:22:44.040683Z",
     "iopub.status.busy": "2022-10-22T22:22:44.040426Z",
     "iopub.status.idle": "2022-10-22T22:22:44.050503Z",
     "shell.execute_reply": "2022-10-22T22:22:44.049707Z"
    },
    "papermill": {
     "duration": 0.044283,
     "end_time": "2022-10-22T22:22:44.052403",
     "exception": false,
     "start_time": "2022-10-22T22:22:44.008120",
     "status": "completed"
    },
    "tags": []
   },
   "outputs": [],
   "source": [
    "submission_df = test.drop(['path'], axis=1)\n",
    "submission_df.to_csv(\"solution.csv\", index=False)"
   ]
  },
  {
   "cell_type": "code",
   "execution_count": 32,
   "id": "77958122",
   "metadata": {
    "execution": {
     "iopub.execute_input": "2022-10-22T22:22:44.115560Z",
     "iopub.status.busy": "2022-10-22T22:22:44.115308Z",
     "iopub.status.idle": "2022-10-22T22:22:44.129601Z",
     "shell.execute_reply": "2022-10-22T22:22:44.128763Z"
    },
    "papermill": {
     "duration": 0.048126,
     "end_time": "2022-10-22T22:22:44.131565",
     "exception": false,
     "start_time": "2022-10-22T22:22:44.083439",
     "status": "completed"
    },
    "tags": []
   },
   "outputs": [
    {
     "data": {
      "text/html": [
       "<div>\n",
       "<style scoped>\n",
       "    .dataframe tbody tr th:only-of-type {\n",
       "        vertical-align: middle;\n",
       "    }\n",
       "\n",
       "    .dataframe tbody tr th {\n",
       "        vertical-align: top;\n",
       "    }\n",
       "\n",
       "    .dataframe thead th {\n",
       "        text-align: right;\n",
       "    }\n",
       "</style>\n",
       "<table border=\"1\" class=\"dataframe\">\n",
       "  <thead>\n",
       "    <tr style=\"text-align: right;\">\n",
       "      <th></th>\n",
       "      <th>id</th>\n",
       "      <th>tar</th>\n",
       "    </tr>\n",
       "  </thead>\n",
       "  <tbody>\n",
       "    <tr>\n",
       "      <th>0</th>\n",
       "      <td>10002998.0</td>\n",
       "      <td>4</td>\n",
       "    </tr>\n",
       "    <tr>\n",
       "      <th>1</th>\n",
       "      <td>10003172.0</td>\n",
       "      <td>4</td>\n",
       "    </tr>\n",
       "    <tr>\n",
       "      <th>2</th>\n",
       "      <td>20004712.0</td>\n",
       "      <td>4</td>\n",
       "    </tr>\n",
       "    <tr>\n",
       "      <th>3</th>\n",
       "      <td>20004205.0</td>\n",
       "      <td>5</td>\n",
       "    </tr>\n",
       "    <tr>\n",
       "      <th>4</th>\n",
       "      <td>20000346.0</td>\n",
       "      <td>4</td>\n",
       "    </tr>\n",
       "    <tr>\n",
       "      <th>...</th>\n",
       "      <td>...</td>\n",
       "      <td>...</td>\n",
       "    </tr>\n",
       "    <tr>\n",
       "      <th>553</th>\n",
       "      <td>20001798.0</td>\n",
       "      <td>5</td>\n",
       "    </tr>\n",
       "    <tr>\n",
       "      <th>554</th>\n",
       "      <td>10006153.0</td>\n",
       "      <td>4</td>\n",
       "    </tr>\n",
       "    <tr>\n",
       "      <th>555</th>\n",
       "      <td>10010660.0</td>\n",
       "      <td>5</td>\n",
       "    </tr>\n",
       "    <tr>\n",
       "      <th>556</th>\n",
       "      <td>10008746.0</td>\n",
       "      <td>4</td>\n",
       "    </tr>\n",
       "    <tr>\n",
       "      <th>557</th>\n",
       "      <td>20004939.0</td>\n",
       "      <td>4</td>\n",
       "    </tr>\n",
       "  </tbody>\n",
       "</table>\n",
       "<p>558 rows × 2 columns</p>\n",
       "</div>"
      ],
      "text/plain": [
       "             id  tar\n",
       "0    10002998.0    4\n",
       "1    10003172.0    4\n",
       "2    20004712.0    4\n",
       "3    20004205.0    5\n",
       "4    20000346.0    4\n",
       "..          ...  ...\n",
       "553  20001798.0    5\n",
       "554  10006153.0    4\n",
       "555  10010660.0    5\n",
       "556  10008746.0    4\n",
       "557  20004939.0    4\n",
       "\n",
       "[558 rows x 2 columns]"
      ]
     },
     "execution_count": 32,
     "metadata": {},
     "output_type": "execute_result"
    }
   ],
   "source": [
    "submission_df"
   ]
  },
  {
   "cell_type": "markdown",
   "id": "61d03e77",
   "metadata": {
    "papermill": {
     "duration": 0.031806,
     "end_time": "2022-10-22T22:22:44.195320",
     "exception": false,
     "start_time": "2022-10-22T22:22:44.163514",
     "status": "completed"
    },
    "tags": []
   },
   "source": [
    "### Now click on the \"Submit\" button to submit the notebook\n",
    "### NOTE: We expect everyone to generate such notebooks for your final submission. Only the teams with notebook submitted against their final submission will be considered for prize money!"
   ]
  },
  {
   "cell_type": "markdown",
   "id": "3d9e7eca",
   "metadata": {
    "papermill": {
     "duration": 0.033231,
     "end_time": "2022-10-22T22:22:44.259977",
     "exception": false,
     "start_time": "2022-10-22T22:22:44.226746",
     "status": "completed"
    },
    "tags": []
   },
   "source": [
    "### Things to try next:\n",
    "* Try different architectures, optimizers, loss functions etc.\n",
    "* Think of ways of tackling data imbalance problem.\n",
    "* Try different image size\n",
    "* Try Ensembling methods.\n",
    "* Apply semi supervised learning."
   ]
  },
  {
   "cell_type": "markdown",
   "id": "b92971b4",
   "metadata": {
    "papermill": {
     "duration": 0.031345,
     "end_time": "2022-10-22T22:22:44.322906",
     "exception": false,
     "start_time": "2022-10-22T22:22:44.291561",
     "status": "completed"
    },
    "tags": []
   },
   "source": [
    "### PS: This competition is hosted to promote learning. So we request you to publish your baseline models via Kaggle kernels and discuss on the discussion tab to help others learn. Thanks!"
   ]
  },
  {
   "cell_type": "code",
   "execution_count": null,
   "id": "cdb3459e",
   "metadata": {
    "papermill": {
     "duration": 0.031441,
     "end_time": "2022-10-22T22:22:44.386543",
     "exception": false,
     "start_time": "2022-10-22T22:22:44.355102",
     "status": "completed"
    },
    "tags": []
   },
   "outputs": [],
   "source": []
  }
 ],
 "metadata": {
  "kernelspec": {
   "display_name": "Python 3",
   "language": "python",
   "name": "python3"
  },
  "language_info": {
   "codemirror_mode": {
    "name": "ipython",
    "version": 3
   },
   "file_extension": ".py",
   "mimetype": "text/x-python",
   "name": "python",
   "nbconvert_exporter": "python",
   "pygments_lexer": "ipython3",
   "version": "3.7.12"
  },
  "papermill": {
   "default_parameters": {},
   "duration": 1086.023929,
   "end_time": "2022-10-22T22:22:46.444440",
   "environment_variables": {},
   "exception": null,
   "input_path": "__notebook__.ipynb",
   "output_path": "__notebook__.ipynb",
   "parameters": {},
   "start_time": "2022-10-22T22:04:40.420511",
   "version": "2.3.4"
  }
 },
 "nbformat": 4,
 "nbformat_minor": 5
}
