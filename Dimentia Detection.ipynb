{
 "cells": [
  {
   "cell_type": "markdown",
   "id": "70be5da5",
   "metadata": {
    "execution": {
     "iopub.execute_input": "2022-10-19T14:36:23.498434Z",
     "iopub.status.busy": "2022-10-19T14:36:23.497413Z",
     "iopub.status.idle": "2022-10-19T14:36:23.565483Z",
     "shell.execute_reply": "2022-10-19T14:36:23.564509Z",
     "shell.execute_reply.started": "2022-10-19T14:36:23.49839Z"
    },
    "papermill": {
     "duration": 0.009726,
     "end_time": "2022-10-22T13:06:16.238651",
     "exception": false,
     "start_time": "2022-10-22T13:06:16.228925",
     "status": "completed"
    },
    "tags": []
   },
   "source": [
    "#### Importing Libraries"
   ]
  },
  {
   "cell_type": "code",
   "execution_count": 1,
   "id": "42fa5696",
   "metadata": {
    "_kg_hide-output": true,
    "execution": {
     "iopub.execute_input": "2022-10-22T13:06:16.258348Z",
     "iopub.status.busy": "2022-10-22T13:06:16.257121Z",
     "iopub.status.idle": "2022-10-22T13:06:28.561990Z",
     "shell.execute_reply": "2022-10-22T13:06:28.560858Z"
    },
    "papermill": {
     "duration": 12.317506,
     "end_time": "2022-10-22T13:06:28.564822",
     "exception": false,
     "start_time": "2022-10-22T13:06:16.247316",
     "status": "completed"
    },
    "tags": []
   },
   "outputs": [
    {
     "name": "stdout",
     "output_type": "stream",
     "text": [
      "Collecting timm\r\n",
      "  Downloading timm-0.6.11-py3-none-any.whl (548 kB)\r\n",
      "\u001b[2K     \u001b[90m━━━━━━━━━━━━━━━━━━━━━━━━━━━━━━━━━━━━━━━\u001b[0m \u001b[32m548.7/548.7 kB\u001b[0m \u001b[31m2.3 MB/s\u001b[0m eta \u001b[36m0:00:00\u001b[0m\r\n",
      "\u001b[?25hRequirement already satisfied: torch>=1.7 in /opt/conda/lib/python3.7/site-packages (from timm) (1.11.0)\r\n",
      "Requirement already satisfied: huggingface-hub in /opt/conda/lib/python3.7/site-packages (from timm) (0.8.1)\r\n",
      "Requirement already satisfied: pyyaml in /opt/conda/lib/python3.7/site-packages (from timm) (6.0)\r\n",
      "Requirement already satisfied: torchvision in /opt/conda/lib/python3.7/site-packages (from timm) (0.12.0)\r\n",
      "Requirement already satisfied: typing-extensions in /opt/conda/lib/python3.7/site-packages (from torch>=1.7->timm) (4.3.0)\r\n",
      "Requirement already satisfied: requests in /opt/conda/lib/python3.7/site-packages (from huggingface-hub->timm) (2.28.1)\r\n",
      "Requirement already satisfied: tqdm in /opt/conda/lib/python3.7/site-packages (from huggingface-hub->timm) (4.64.0)\r\n",
      "Requirement already satisfied: filelock in /opt/conda/lib/python3.7/site-packages (from huggingface-hub->timm) (3.7.1)\r\n",
      "Requirement already satisfied: packaging>=20.9 in /opt/conda/lib/python3.7/site-packages (from huggingface-hub->timm) (21.3)\r\n",
      "Requirement already satisfied: importlib-metadata in /opt/conda/lib/python3.7/site-packages (from huggingface-hub->timm) (4.12.0)\r\n",
      "Requirement already satisfied: pillow!=8.3.*,>=5.3.0 in /opt/conda/lib/python3.7/site-packages (from torchvision->timm) (9.1.1)\r\n",
      "Requirement already satisfied: numpy in /opt/conda/lib/python3.7/site-packages (from torchvision->timm) (1.21.6)\r\n",
      "Requirement already satisfied: pyparsing!=3.0.5,>=2.0.2 in /opt/conda/lib/python3.7/site-packages (from packaging>=20.9->huggingface-hub->timm) (3.0.9)\r\n",
      "Requirement already satisfied: zipp>=0.5 in /opt/conda/lib/python3.7/site-packages (from importlib-metadata->huggingface-hub->timm) (3.8.0)\r\n",
      "Requirement already satisfied: idna<4,>=2.5 in /opt/conda/lib/python3.7/site-packages (from requests->huggingface-hub->timm) (3.3)\r\n",
      "Requirement already satisfied: charset-normalizer<3,>=2 in /opt/conda/lib/python3.7/site-packages (from requests->huggingface-hub->timm) (2.1.0)\r\n",
      "Requirement already satisfied: urllib3<1.27,>=1.21.1 in /opt/conda/lib/python3.7/site-packages (from requests->huggingface-hub->timm) (1.26.12)\r\n",
      "Requirement already satisfied: certifi>=2017.4.17 in /opt/conda/lib/python3.7/site-packages (from requests->huggingface-hub->timm) (2022.6.15.2)\r\n",
      "Installing collected packages: timm\r\n",
      "Successfully installed timm-0.6.11\r\n",
      "\u001b[33mWARNING: Running pip as the 'root' user can result in broken permissions and conflicting behaviour with the system package manager. It is recommended to use a virtual environment instead: https://pip.pypa.io/warnings/venv\u001b[0m\u001b[33m\r\n",
      "\u001b[0m"
     ]
    }
   ],
   "source": [
    "!pip install timm"
   ]
  },
  {
   "cell_type": "markdown",
   "id": "28e4bb7e",
   "metadata": {
    "papermill": {
     "duration": 0.010685,
     "end_time": "2022-10-22T13:06:28.585137",
     "exception": false,
     "start_time": "2022-10-22T13:06:28.574452",
     "status": "completed"
    },
    "tags": []
   },
   "source": [
    "# Libraries"
   ]
  },
  {
   "cell_type": "code",
   "execution_count": 2,
   "id": "01a49af4",
   "metadata": {
    "execution": {
     "iopub.execute_input": "2022-10-22T13:06:28.605192Z",
     "iopub.status.busy": "2022-10-22T13:06:28.604824Z",
     "iopub.status.idle": "2022-10-22T13:06:33.285237Z",
     "shell.execute_reply": "2022-10-22T13:06:33.284138Z"
    },
    "papermill": {
     "duration": 4.6935,
     "end_time": "2022-10-22T13:06:33.287920",
     "exception": false,
     "start_time": "2022-10-22T13:06:28.594420",
     "status": "completed"
    },
    "tags": []
   },
   "outputs": [],
   "source": [
    "import numpy as np\n",
    "import pandas as pd\n",
    "import matplotlib.pyplot as plt\n",
    "import seaborn as sns\n",
    "from statistics import mean\n",
    "\n",
    "from sklearn.model_selection import train_test_split\n",
    "from sklearn.metrics import accuracy_score\n",
    "import cv2\n",
    "\n",
    "import timm\n",
    "from tqdm import tqdm\n",
    "import torch\n",
    "import torch.nn as nn\n",
    "import torch.nn.functional as F\n",
    "from torch.optim import Adam, SGD\n",
    "import torchvision.models as models\n",
    "from torch.utils.data import DataLoader, Dataset\n",
    "from torch.optim.lr_scheduler import StepLR\n",
    "\n",
    "import albumentations as A\n",
    "from albumentations.pytorch import ToTensorV2\n",
    "\n",
    "import warnings\n",
    "warnings.filterwarnings('ignore')"
   ]
  },
  {
   "cell_type": "markdown",
   "id": "fab00ea8",
   "metadata": {
    "papermill": {
     "duration": 0.009099,
     "end_time": "2022-10-22T13:06:33.306606",
     "exception": false,
     "start_time": "2022-10-22T13:06:33.297507",
     "status": "completed"
    },
    "tags": []
   },
   "source": []
  },
  {
   "cell_type": "markdown",
   "id": "ed156f1e",
   "metadata": {
    "papermill": {
     "duration": 0.008995,
     "end_time": "2022-10-22T13:06:33.324787",
     "exception": false,
     "start_time": "2022-10-22T13:06:33.315792",
     "status": "completed"
    },
    "tags": []
   },
   "source": []
  },
  {
   "cell_type": "markdown",
   "id": "1daec2a4",
   "metadata": {
    "papermill": {
     "duration": 0.008988,
     "end_time": "2022-10-22T13:06:33.342937",
     "exception": false,
     "start_time": "2022-10-22T13:06:33.333949",
     "status": "completed"
    },
    "tags": []
   },
   "source": []
  },
  {
   "cell_type": "markdown",
   "id": "4f0ebd24",
   "metadata": {
    "papermill": {
     "duration": 0.008976,
     "end_time": "2022-10-22T13:06:33.361058",
     "exception": false,
     "start_time": "2022-10-22T13:06:33.352082",
     "status": "completed"
    },
    "tags": []
   },
   "source": []
  },
  {
   "cell_type": "markdown",
   "id": "c1067145",
   "metadata": {
    "papermill": {
     "duration": 0.008991,
     "end_time": "2022-10-22T13:06:33.379333",
     "exception": false,
     "start_time": "2022-10-22T13:06:33.370342",
     "status": "completed"
    },
    "tags": []
   },
   "source": []
  },
  {
   "cell_type": "code",
   "execution_count": 3,
   "id": "a4c4b9a5",
   "metadata": {
    "execution": {
     "iopub.execute_input": "2022-10-22T13:06:33.399950Z",
     "iopub.status.busy": "2022-10-22T13:06:33.398883Z",
     "iopub.status.idle": "2022-10-22T13:06:33.483795Z",
     "shell.execute_reply": "2022-10-22T13:06:33.482741Z"
    },
    "papermill": {
     "duration": 0.097597,
     "end_time": "2022-10-22T13:06:33.486067",
     "exception": false,
     "start_time": "2022-10-22T13:06:33.388470",
     "status": "completed"
    },
    "tags": []
   },
   "outputs": [],
   "source": [
    "device = torch.device(\"cuda\" if torch.cuda.is_available() else \"cpu\")"
   ]
  },
  {
   "cell_type": "markdown",
   "id": "1e85f2b0",
   "metadata": {
    "papermill": {
     "duration": 0.009219,
     "end_time": "2022-10-22T13:06:33.504770",
     "exception": false,
     "start_time": "2022-10-22T13:06:33.495551",
     "status": "completed"
    },
    "tags": []
   },
   "source": [
    "# # Dataset"
   ]
  },
  {
   "cell_type": "markdown",
   "id": "24b67218",
   "metadata": {
    "papermill": {
     "duration": 0.008968,
     "end_time": "2022-10-22T13:06:33.522898",
     "exception": false,
     "start_time": "2022-10-22T13:06:33.513930",
     "status": "completed"
    },
    "tags": []
   },
   "source": [
    "#### Data Analysis\n",
    "* concetto_CDT contains images of hand-drawn clock\n",
    "* train_csv contain the corrsponding image id and their labels\n",
    "* test_csv contain the images which needs to be predicted"
   ]
  },
  {
   "cell_type": "code",
   "execution_count": 4,
   "id": "0a5b7e6f",
   "metadata": {
    "execution": {
     "iopub.execute_input": "2022-10-22T13:06:33.542449Z",
     "iopub.status.busy": "2022-10-22T13:06:33.542123Z",
     "iopub.status.idle": "2022-10-22T13:06:33.567211Z",
     "shell.execute_reply": "2022-10-22T13:06:33.566382Z"
    },
    "papermill": {
     "duration": 0.03728,
     "end_time": "2022-10-22T13:06:33.569333",
     "exception": false,
     "start_time": "2022-10-22T13:06:33.532053",
     "status": "completed"
    },
    "tags": []
   },
   "outputs": [],
   "source": [
    "train = pd.read_csv('../input/concetto22/train.csv')\n",
    "test = pd.read_csv('../input/concetto22/test.csv')"
   ]
  },
  {
   "cell_type": "code",
   "execution_count": 5,
   "id": "31b9330b",
   "metadata": {
    "execution": {
     "iopub.execute_input": "2022-10-22T13:06:33.590040Z",
     "iopub.status.busy": "2022-10-22T13:06:33.589762Z",
     "iopub.status.idle": "2022-10-22T13:06:33.608637Z",
     "shell.execute_reply": "2022-10-22T13:06:33.607461Z"
    },
    "papermill": {
     "duration": 0.032412,
     "end_time": "2022-10-22T13:06:33.611163",
     "exception": false,
     "start_time": "2022-10-22T13:06:33.578751",
     "status": "completed"
    },
    "tags": []
   },
   "outputs": [
    {
     "data": {
      "text/html": [
       "<div>\n",
       "<style scoped>\n",
       "    .dataframe tbody tr th:only-of-type {\n",
       "        vertical-align: middle;\n",
       "    }\n",
       "\n",
       "    .dataframe tbody tr th {\n",
       "        vertical-align: top;\n",
       "    }\n",
       "\n",
       "    .dataframe thead th {\n",
       "        text-align: right;\n",
       "    }\n",
       "</style>\n",
       "<table border=\"1\" class=\"dataframe\">\n",
       "  <thead>\n",
       "    <tr style=\"text-align: right;\">\n",
       "      <th></th>\n",
       "      <th>id</th>\n",
       "      <th>tar</th>\n",
       "    </tr>\n",
       "  </thead>\n",
       "  <tbody>\n",
       "    <tr>\n",
       "      <th>0</th>\n",
       "      <td>20002859.0</td>\n",
       "      <td>5.0</td>\n",
       "    </tr>\n",
       "    <tr>\n",
       "      <th>1</th>\n",
       "      <td>10011157.0</td>\n",
       "      <td>5.0</td>\n",
       "    </tr>\n",
       "    <tr>\n",
       "      <th>2</th>\n",
       "      <td>10011996.0</td>\n",
       "      <td>5.0</td>\n",
       "    </tr>\n",
       "    <tr>\n",
       "      <th>3</th>\n",
       "      <td>10000364.0</td>\n",
       "      <td>5.0</td>\n",
       "    </tr>\n",
       "    <tr>\n",
       "      <th>4</th>\n",
       "      <td>20004294.0</td>\n",
       "      <td>3.0</td>\n",
       "    </tr>\n",
       "  </tbody>\n",
       "</table>\n",
       "</div>"
      ],
      "text/plain": [
       "           id  tar\n",
       "0  20002859.0  5.0\n",
       "1  10011157.0  5.0\n",
       "2  10011996.0  5.0\n",
       "3  10000364.0  5.0\n",
       "4  20004294.0  3.0"
      ]
     },
     "execution_count": 5,
     "metadata": {},
     "output_type": "execute_result"
    }
   ],
   "source": [
    "train.head()"
   ]
  },
  {
   "cell_type": "code",
   "execution_count": 6,
   "id": "9a7f218d",
   "metadata": {
    "execution": {
     "iopub.execute_input": "2022-10-22T13:06:33.632393Z",
     "iopub.status.busy": "2022-10-22T13:06:33.630993Z",
     "iopub.status.idle": "2022-10-22T13:06:33.640283Z",
     "shell.execute_reply": "2022-10-22T13:06:33.639297Z"
    },
    "papermill": {
     "duration": 0.02161,
     "end_time": "2022-10-22T13:06:33.642222",
     "exception": false,
     "start_time": "2022-10-22T13:06:33.620612",
     "status": "completed"
    },
    "tags": []
   },
   "outputs": [
    {
     "data": {
      "text/html": [
       "<div>\n",
       "<style scoped>\n",
       "    .dataframe tbody tr th:only-of-type {\n",
       "        vertical-align: middle;\n",
       "    }\n",
       "\n",
       "    .dataframe tbody tr th {\n",
       "        vertical-align: top;\n",
       "    }\n",
       "\n",
       "    .dataframe thead th {\n",
       "        text-align: right;\n",
       "    }\n",
       "</style>\n",
       "<table border=\"1\" class=\"dataframe\">\n",
       "  <thead>\n",
       "    <tr style=\"text-align: right;\">\n",
       "      <th></th>\n",
       "      <th>id</th>\n",
       "    </tr>\n",
       "  </thead>\n",
       "  <tbody>\n",
       "    <tr>\n",
       "      <th>0</th>\n",
       "      <td>10002998.0</td>\n",
       "    </tr>\n",
       "    <tr>\n",
       "      <th>1</th>\n",
       "      <td>10003172.0</td>\n",
       "    </tr>\n",
       "    <tr>\n",
       "      <th>2</th>\n",
       "      <td>20004712.0</td>\n",
       "    </tr>\n",
       "    <tr>\n",
       "      <th>3</th>\n",
       "      <td>20004205.0</td>\n",
       "    </tr>\n",
       "    <tr>\n",
       "      <th>4</th>\n",
       "      <td>20000346.0</td>\n",
       "    </tr>\n",
       "  </tbody>\n",
       "</table>\n",
       "</div>"
      ],
      "text/plain": [
       "           id\n",
       "0  10002998.0\n",
       "1  10003172.0\n",
       "2  20004712.0\n",
       "3  20004205.0\n",
       "4  20000346.0"
      ]
     },
     "execution_count": 6,
     "metadata": {},
     "output_type": "execute_result"
    }
   ],
   "source": [
    "test.head()"
   ]
  },
  {
   "cell_type": "code",
   "execution_count": 7,
   "id": "365d4f81",
   "metadata": {
    "execution": {
     "iopub.execute_input": "2022-10-22T13:06:33.663463Z",
     "iopub.status.busy": "2022-10-22T13:06:33.662328Z",
     "iopub.status.idle": "2022-10-22T13:06:33.668268Z",
     "shell.execute_reply": "2022-10-22T13:06:33.667433Z"
    },
    "papermill": {
     "duration": 0.018454,
     "end_time": "2022-10-22T13:06:33.670244",
     "exception": false,
     "start_time": "2022-10-22T13:06:33.651790",
     "status": "completed"
    },
    "tags": []
   },
   "outputs": [],
   "source": [
    "# This function adds an extra column having the path of the images\n",
    "def append_path(df):\n",
    "    target_str = []\n",
    "    for i in range(len(df)):\n",
    "        target_str.append(str(df['id'][i]))\n",
    "    for i in range(len(df)):\n",
    "        target_str[i] = target_str[i].replace('.0', '.tif') \n",
    "        target_str[i] = '/kaggle/input/concetto22/concetto_CDT/concetto_CDT/'+target_str[i]\n",
    "    df['path'] = target_str\n",
    "    return df"
   ]
  },
  {
   "cell_type": "code",
   "execution_count": 8,
   "id": "7749428c",
   "metadata": {
    "execution": {
     "iopub.execute_input": "2022-10-22T13:06:33.691339Z",
     "iopub.status.busy": "2022-10-22T13:06:33.689952Z",
     "iopub.status.idle": "2022-10-22T13:06:33.720398Z",
     "shell.execute_reply": "2022-10-22T13:06:33.719405Z"
    },
    "papermill": {
     "duration": 0.042609,
     "end_time": "2022-10-22T13:06:33.722318",
     "exception": false,
     "start_time": "2022-10-22T13:06:33.679709",
     "status": "completed"
    },
    "tags": []
   },
   "outputs": [
    {
     "data": {
      "text/html": [
       "<div>\n",
       "<style scoped>\n",
       "    .dataframe tbody tr th:only-of-type {\n",
       "        vertical-align: middle;\n",
       "    }\n",
       "\n",
       "    .dataframe tbody tr th {\n",
       "        vertical-align: top;\n",
       "    }\n",
       "\n",
       "    .dataframe thead th {\n",
       "        text-align: right;\n",
       "    }\n",
       "</style>\n",
       "<table border=\"1\" class=\"dataframe\">\n",
       "  <thead>\n",
       "    <tr style=\"text-align: right;\">\n",
       "      <th></th>\n",
       "      <th>id</th>\n",
       "      <th>tar</th>\n",
       "      <th>path</th>\n",
       "    </tr>\n",
       "  </thead>\n",
       "  <tbody>\n",
       "    <tr>\n",
       "      <th>0</th>\n",
       "      <td>20002859.0</td>\n",
       "      <td>5.0</td>\n",
       "      <td>/kaggle/input/concetto22/concetto_CDT/concetto...</td>\n",
       "    </tr>\n",
       "    <tr>\n",
       "      <th>1</th>\n",
       "      <td>10011157.0</td>\n",
       "      <td>5.0</td>\n",
       "      <td>/kaggle/input/concetto22/concetto_CDT/concetto...</td>\n",
       "    </tr>\n",
       "    <tr>\n",
       "      <th>2</th>\n",
       "      <td>10011996.0</td>\n",
       "      <td>5.0</td>\n",
       "      <td>/kaggle/input/concetto22/concetto_CDT/concetto...</td>\n",
       "    </tr>\n",
       "    <tr>\n",
       "      <th>3</th>\n",
       "      <td>10000364.0</td>\n",
       "      <td>5.0</td>\n",
       "      <td>/kaggle/input/concetto22/concetto_CDT/concetto...</td>\n",
       "    </tr>\n",
       "    <tr>\n",
       "      <th>4</th>\n",
       "      <td>20004294.0</td>\n",
       "      <td>3.0</td>\n",
       "      <td>/kaggle/input/concetto22/concetto_CDT/concetto...</td>\n",
       "    </tr>\n",
       "  </tbody>\n",
       "</table>\n",
       "</div>"
      ],
      "text/plain": [
       "           id  tar                                               path\n",
       "0  20002859.0  5.0  /kaggle/input/concetto22/concetto_CDT/concetto...\n",
       "1  10011157.0  5.0  /kaggle/input/concetto22/concetto_CDT/concetto...\n",
       "2  10011996.0  5.0  /kaggle/input/concetto22/concetto_CDT/concetto...\n",
       "3  10000364.0  5.0  /kaggle/input/concetto22/concetto_CDT/concetto...\n",
       "4  20004294.0  3.0  /kaggle/input/concetto22/concetto_CDT/concetto..."
      ]
     },
     "execution_count": 8,
     "metadata": {},
     "output_type": "execute_result"
    }
   ],
   "source": [
    "train = append_path(train)\n",
    "train.head()"
   ]
  },
  {
   "cell_type": "code",
   "execution_count": 9,
   "id": "93f5db37",
   "metadata": {
    "execution": {
     "iopub.execute_input": "2022-10-22T13:06:33.743521Z",
     "iopub.status.busy": "2022-10-22T13:06:33.742761Z",
     "iopub.status.idle": "2022-10-22T13:06:33.756338Z",
     "shell.execute_reply": "2022-10-22T13:06:33.755298Z"
    },
    "papermill": {
     "duration": 0.025866,
     "end_time": "2022-10-22T13:06:33.758300",
     "exception": false,
     "start_time": "2022-10-22T13:06:33.732434",
     "status": "completed"
    },
    "tags": []
   },
   "outputs": [
    {
     "data": {
      "text/html": [
       "<div>\n",
       "<style scoped>\n",
       "    .dataframe tbody tr th:only-of-type {\n",
       "        vertical-align: middle;\n",
       "    }\n",
       "\n",
       "    .dataframe tbody tr th {\n",
       "        vertical-align: top;\n",
       "    }\n",
       "\n",
       "    .dataframe thead th {\n",
       "        text-align: right;\n",
       "    }\n",
       "</style>\n",
       "<table border=\"1\" class=\"dataframe\">\n",
       "  <thead>\n",
       "    <tr style=\"text-align: right;\">\n",
       "      <th></th>\n",
       "      <th>id</th>\n",
       "      <th>path</th>\n",
       "    </tr>\n",
       "  </thead>\n",
       "  <tbody>\n",
       "    <tr>\n",
       "      <th>0</th>\n",
       "      <td>10002998.0</td>\n",
       "      <td>/kaggle/input/concetto22/concetto_CDT/concetto...</td>\n",
       "    </tr>\n",
       "    <tr>\n",
       "      <th>1</th>\n",
       "      <td>10003172.0</td>\n",
       "      <td>/kaggle/input/concetto22/concetto_CDT/concetto...</td>\n",
       "    </tr>\n",
       "    <tr>\n",
       "      <th>2</th>\n",
       "      <td>20004712.0</td>\n",
       "      <td>/kaggle/input/concetto22/concetto_CDT/concetto...</td>\n",
       "    </tr>\n",
       "    <tr>\n",
       "      <th>3</th>\n",
       "      <td>20004205.0</td>\n",
       "      <td>/kaggle/input/concetto22/concetto_CDT/concetto...</td>\n",
       "    </tr>\n",
       "    <tr>\n",
       "      <th>4</th>\n",
       "      <td>20000346.0</td>\n",
       "      <td>/kaggle/input/concetto22/concetto_CDT/concetto...</td>\n",
       "    </tr>\n",
       "  </tbody>\n",
       "</table>\n",
       "</div>"
      ],
      "text/plain": [
       "           id                                               path\n",
       "0  10002998.0  /kaggle/input/concetto22/concetto_CDT/concetto...\n",
       "1  10003172.0  /kaggle/input/concetto22/concetto_CDT/concetto...\n",
       "2  20004712.0  /kaggle/input/concetto22/concetto_CDT/concetto...\n",
       "3  20004205.0  /kaggle/input/concetto22/concetto_CDT/concetto...\n",
       "4  20000346.0  /kaggle/input/concetto22/concetto_CDT/concetto..."
      ]
     },
     "execution_count": 9,
     "metadata": {},
     "output_type": "execute_result"
    }
   ],
   "source": [
    "test = append_path(test)\n",
    "test.head()"
   ]
  },
  {
   "cell_type": "markdown",
   "id": "b693ba93",
   "metadata": {
    "papermill": {
     "duration": 0.00951,
     "end_time": "2022-10-22T13:06:33.777619",
     "exception": false,
     "start_time": "2022-10-22T13:06:33.768109",
     "status": "completed"
    },
    "tags": []
   },
   "source": [
    "#### Data visualization"
   ]
  },
  {
   "cell_type": "code",
   "execution_count": 10,
   "id": "affc3dd3",
   "metadata": {
    "execution": {
     "iopub.execute_input": "2022-10-22T13:06:33.799436Z",
     "iopub.status.busy": "2022-10-22T13:06:33.797963Z",
     "iopub.status.idle": "2022-10-22T13:06:35.277170Z",
     "shell.execute_reply": "2022-10-22T13:06:35.276283Z"
    },
    "papermill": {
     "duration": 1.491811,
     "end_time": "2022-10-22T13:06:35.279201",
     "exception": false,
     "start_time": "2022-10-22T13:06:33.787390",
     "status": "completed"
    },
    "tags": []
   },
   "outputs": [
    {
     "data": {
      "text/plain": [
       "<matplotlib.image.AxesImage at 0x7ff6d482e450>"
      ]
     },
     "execution_count": 10,
     "metadata": {},
     "output_type": "execute_result"
    },
    {
     "data": {
      "image/png": "[encoded data removed]",
      "text/plain": [
       "<Figure size 432x288 with 1 Axes>"
      ]
     },
     "metadata": {
      "needs_background": "light"
     },
     "output_type": "display_data"
    }
   ],
   "source": [
    "plt.imshow(cv2.imread(train['path'][0]))"
   ]
  },
  {
   "cell_type": "markdown",
   "id": "0554d050",
   "metadata": {
    "papermill": {
     "duration": 0.010075,
     "end_time": "2022-10-22T13:06:35.299607",
     "exception": false,
     "start_time": "2022-10-22T13:06:35.289532",
     "status": "completed"
    },
    "tags": []
   },
   "source": [
    "#### Splitting the train data into train and val set"
   ]
  },
  {
   "cell_type": "code",
   "execution_count": 11,
   "id": "3123fbcf",
   "metadata": {
    "execution": {
     "iopub.execute_input": "2022-10-22T13:06:35.321904Z",
     "iopub.status.busy": "2022-10-22T13:06:35.320913Z",
     "iopub.status.idle": "2022-10-22T13:06:35.341105Z",
     "shell.execute_reply": "2022-10-22T13:06:35.340236Z"
    },
    "papermill": {
     "duration": 0.033367,
     "end_time": "2022-10-22T13:06:35.343075",
     "exception": false,
     "start_time": "2022-10-22T13:06:35.309708",
     "status": "completed"
    },
    "tags": []
   },
   "outputs": [],
   "source": [
    "X = train.drop(['tar'], axis=1)\n",
    "y = train['tar']\n",
    "x_train, x_val, y_train, y_val = train_test_split(X, y, test_size=0.1, random_state=42, stratify = y)"
   ]
  },
  {
   "cell_type": "code",
   "execution_count": 12,
   "id": "8316162b",
   "metadata": {
    "execution": {
     "iopub.execute_input": "2022-10-22T13:06:35.365484Z",
     "iopub.status.busy": "2022-10-22T13:06:35.364686Z",
     "iopub.status.idle": "2022-10-22T13:06:35.378877Z",
     "shell.execute_reply": "2022-10-22T13:06:35.378027Z"
    },
    "papermill": {
     "duration": 0.027557,
     "end_time": "2022-10-22T13:06:35.380820",
     "exception": false,
     "start_time": "2022-10-22T13:06:35.353263",
     "status": "completed"
    },
    "tags": []
   },
   "outputs": [],
   "source": [
    "train_data = pd.merge(x_train, y_train, right_index=True, left_index=True)\n",
    "val_data = pd.merge(x_val, y_val, right_index=True, left_index=True)"
   ]
  },
  {
   "cell_type": "code",
   "execution_count": 13,
   "id": "4ae0d323",
   "metadata": {
    "execution": {
     "iopub.execute_input": "2022-10-22T13:06:35.402959Z",
     "iopub.status.busy": "2022-10-22T13:06:35.402002Z",
     "iopub.status.idle": "2022-10-22T13:06:35.407448Z",
     "shell.execute_reply": "2022-10-22T13:06:35.406630Z"
    },
    "papermill": {
     "duration": 0.018386,
     "end_time": "2022-10-22T13:06:35.409385",
     "exception": false,
     "start_time": "2022-10-22T13:06:35.390999",
     "status": "completed"
    },
    "tags": []
   },
   "outputs": [],
   "source": [
    "#defining a configuration\n",
    "\n",
    "class CFG:\n",
    "    model_name = 'resnet18'\n",
    "    target_size = 6\n",
    "    size = 256\n",
    "    batch_size = 64\n",
    "    epochs = 10\n",
    "    num_workers = 2\n",
    "    lr = 1e-3\n",
    "    weight_decay = 1e-2\n",
    "    train = True\n",
    "    target_col = 'tar'"
   ]
  },
  {
   "cell_type": "markdown",
   "id": "d8d51555",
   "metadata": {
    "papermill": {
     "duration": 0.010099,
     "end_time": "2022-10-22T13:06:35.429716",
     "exception": false,
     "start_time": "2022-10-22T13:06:35.419617",
     "status": "completed"
    },
    "tags": []
   },
   "source": [
    "#### Dataset creation \n",
    "Creating a custom dataset for training and test data which takes path of images, transforms it and converts the image to tensors for further processing."
   ]
  },
  {
   "cell_type": "code",
   "execution_count": 14,
   "id": "d0144284",
   "metadata": {
    "execution": {
     "iopub.execute_input": "2022-10-22T13:06:35.451813Z",
     "iopub.status.busy": "2022-10-22T13:06:35.451069Z",
     "iopub.status.idle": "2022-10-22T13:06:35.460261Z",
     "shell.execute_reply": "2022-10-22T13:06:35.459355Z"
    },
    "papermill": {
     "duration": 0.022418,
     "end_time": "2022-10-22T13:06:35.462307",
     "exception": false,
     "start_time": "2022-10-22T13:06:35.439889",
     "status": "completed"
    },
    "tags": []
   },
   "outputs": [],
   "source": [
    "class TrainDataset(Dataset):\n",
    "    def __init__(self, df, transform=None):\n",
    "        self.df = df\n",
    "        self.file_names = df['path'].values\n",
    "        self.labels = df['tar'].values\n",
    "        self.transform = transform\n",
    "        \n",
    "    def __len__(self):\n",
    "        return len(self.df)\n",
    "\n",
    "    def __getitem__(self, idx):\n",
    "        file_name = self.file_names[idx]\n",
    "        file_path = file_name\n",
    "        image = cv2.imread(file_path)\n",
    "        image = cv2.cvtColor(image, cv2.COLOR_BGR2RGB)\n",
    "        if self.transform:\n",
    "            augmented = self.transform(image=image)\n",
    "            image = augmented['image']\n",
    "        label = torch.tensor(self.labels[idx]).long()\n",
    "        return image, label\n",
    "    \n",
    "\n",
    "class TestDataset(Dataset):\n",
    "    def __init__(self, df, transform=None):\n",
    "        self.df = df\n",
    "        self.file_names = df['path'].values\n",
    "        self.transform = transform\n",
    "        \n",
    "    def __len__(self):\n",
    "        return len(self.df)\n",
    "\n",
    "    def __getitem__(self, idx):\n",
    "        file_name = self.file_names[idx]\n",
    "        file_path = file_name\n",
    "        image = cv2.imread(file_path)\n",
    "        image = cv2.cvtColor(image, cv2.COLOR_BGR2RGB)\n",
    "        if self.transform:\n",
    "            augmented = self.transform(image=image)\n",
    "            image = augmented['image']\n",
    "        return image"
   ]
  },
  {
   "cell_type": "markdown",
   "id": "c42d9b85",
   "metadata": {
    "papermill": {
     "duration": 0.010019,
     "end_time": "2022-10-22T13:06:35.482578",
     "exception": false,
     "start_time": "2022-10-22T13:06:35.472559",
     "status": "completed"
    },
    "tags": []
   },
   "source": [
    "# Transformation"
   ]
  },
  {
   "cell_type": "markdown",
   "id": "82e903cb",
   "metadata": {
    "papermill": {
     "duration": 0.010021,
     "end_time": "2022-10-22T13:06:35.502937",
     "exception": false,
     "start_time": "2022-10-22T13:06:35.492916",
     "status": "completed"
    },
    "tags": []
   },
   "source": [
    "#### Augmentation\n",
    "Applying some necessary augmentations like resizing the image to the size accepted by model, Normalizing the tensors.\n",
    "Albumentations like RandomResizedCrop and HorizontalFlip are used to augment the dataset.\n",
    "Find more albumentations [here](https://github.com/pytorch/vision/blob/main/torchvision/transforms/transforms.py)"
   ]
  },
  {
   "cell_type": "code",
   "execution_count": 15,
   "id": "8cd84848",
   "metadata": {
    "execution": {
     "iopub.execute_input": "2022-10-22T13:06:35.526093Z",
     "iopub.status.busy": "2022-10-22T13:06:35.524458Z",
     "iopub.status.idle": "2022-10-22T13:06:35.531964Z",
     "shell.execute_reply": "2022-10-22T13:06:35.531070Z"
    },
    "papermill": {
     "duration": 0.020847,
     "end_time": "2022-10-22T13:06:35.533987",
     "exception": false,
     "start_time": "2022-10-22T13:06:35.513140",
     "status": "completed"
    },
    "tags": []
   },
   "outputs": [],
   "source": [
    "# Transforms\n",
    "def get_transforms(*, data):\n",
    "    \n",
    "    if data == 'train':\n",
    "        return A.Compose([\n",
    "            A.Resize(CFG.size, CFG.size),\n",
    "            A.RandomResizedCrop(CFG.size, CFG.size),\n",
    "            A.HorizontalFlip(p=0.5),\n",
    "            A.Normalize(\n",
    "                mean=[0.485, 0.456, 0.406],\n",
    "                std=[0.229, 0.224, 0.225],\n",
    "            ),\n",
    "            ToTensorV2(),\n",
    "        ])\n",
    "\n",
    "    elif data == 'valid':\n",
    "        return A.Compose([\n",
    "            A.Resize(CFG.size, CFG.size),\n",
    "            A.Normalize(\n",
    "                mean=[0.485, 0.456, 0.406],\n",
    "                std=[0.229, 0.224, 0.225],\n",
    "            ),\n",
    "            ToTensorV2(),\n",
    "        ])"
   ]
  },
  {
   "cell_type": "markdown",
   "id": "0973cb4e",
   "metadata": {
    "papermill": {
     "duration": 0.009946,
     "end_time": "2022-10-22T13:06:35.554067",
     "exception": false,
     "start_time": "2022-10-22T13:06:35.544121",
     "status": "completed"
    },
    "tags": []
   },
   "source": [
    "# Model"
   ]
  },
  {
   "cell_type": "code",
   "execution_count": 16,
   "id": "0f9639c4",
   "metadata": {
    "execution": {
     "iopub.execute_input": "2022-10-22T13:06:35.575927Z",
     "iopub.status.busy": "2022-10-22T13:06:35.575336Z",
     "iopub.status.idle": "2022-10-22T13:06:35.581267Z",
     "shell.execute_reply": "2022-10-22T13:06:35.580293Z"
    },
    "papermill": {
     "duration": 0.018965,
     "end_time": "2022-10-22T13:06:35.583187",
     "exception": false,
     "start_time": "2022-10-22T13:06:35.564222",
     "status": "completed"
    },
    "tags": []
   },
   "outputs": [],
   "source": [
    "class CustomNet(nn.Module):\n",
    "    def __init__(self, model_name=CFG.model_name, pretrained=False):\n",
    "        super().__init__()\n",
    "        self.model = timm.create_model(CFG.model_name, pretrained=pretrained)\n",
    "        #print(self.model.default_cfg[\"classifier\"])\n",
    "        n_features = self.model.fc.in_features #either fc or classifier , check using above line\n",
    "        self.model.classifier = nn.Linear(n_features, CFG.target_size)\n",
    "\n",
    "    def forward(self, x):\n",
    "        x = self.model(x)\n",
    "        return x\n",
    "    "
   ]
  },
  {
   "cell_type": "code",
   "execution_count": 17,
   "id": "1f867ca8",
   "metadata": {
    "execution": {
     "iopub.execute_input": "2022-10-22T13:06:35.605294Z",
     "iopub.status.busy": "2022-10-22T13:06:35.604455Z",
     "iopub.status.idle": "2022-10-22T13:06:39.138037Z",
     "shell.execute_reply": "2022-10-22T13:06:39.137041Z"
    },
    "papermill": {
     "duration": 3.547188,
     "end_time": "2022-10-22T13:06:39.140497",
     "exception": false,
     "start_time": "2022-10-22T13:06:35.593309",
     "status": "completed"
    },
    "tags": []
   },
   "outputs": [
    {
     "name": "stderr",
     "output_type": "stream",
     "text": [
      "Downloading: \"https://download.pytorch.org/models/resnet18-5c106cde.pth\" to /root/.cache/torch/hub/checkpoints/resnet18-5c106cde.pth\n"
     ]
    }
   ],
   "source": [
    "model = CustomNet(model_name=CFG.model_name, pretrained=True)"
   ]
  },
  {
   "cell_type": "markdown",
   "id": "2ffcf10d",
   "metadata": {
    "papermill": {
     "duration": 0.011426,
     "end_time": "2022-10-22T13:06:39.162951",
     "exception": false,
     "start_time": "2022-10-22T13:06:39.151525",
     "status": "completed"
    },
    "tags": []
   },
   "source": [
    "## Loss Function\n",
    "The loss function used, here [CrossEntropyLoss.](https://pytorch.org/docs/stable/generated/torch.nn.CrossEntropyLoss.html)"
   ]
  },
  {
   "cell_type": "code",
   "execution_count": 18,
   "id": "8b6b1f6b",
   "metadata": {
    "execution": {
     "iopub.execute_input": "2022-10-22T13:06:39.184933Z",
     "iopub.status.busy": "2022-10-22T13:06:39.184598Z",
     "iopub.status.idle": "2022-10-22T13:06:39.189308Z",
     "shell.execute_reply": "2022-10-22T13:06:39.188272Z"
    },
    "papermill": {
     "duration": 0.018384,
     "end_time": "2022-10-22T13:06:39.191645",
     "exception": false,
     "start_time": "2022-10-22T13:06:39.173261",
     "status": "completed"
    },
    "tags": []
   },
   "outputs": [],
   "source": [
    "def get_criterion():\n",
    "    criterion = nn.CrossEntropyLoss()\n",
    "    return criterion"
   ]
  },
  {
   "cell_type": "code",
   "execution_count": 19,
   "id": "02c3e4f9",
   "metadata": {
    "execution": {
     "iopub.execute_input": "2022-10-22T13:06:39.213678Z",
     "iopub.status.busy": "2022-10-22T13:06:39.212884Z",
     "iopub.status.idle": "2022-10-22T13:06:39.217676Z",
     "shell.execute_reply": "2022-10-22T13:06:39.216839Z"
    },
    "papermill": {
     "duration": 0.017772,
     "end_time": "2022-10-22T13:06:39.219643",
     "exception": false,
     "start_time": "2022-10-22T13:06:39.201871",
     "status": "completed"
    },
    "tags": []
   },
   "outputs": [],
   "source": [
    "def get_score(y_true, y_pred):\n",
    "    return accuracy_score(y_true, y_pred)"
   ]
  },
  {
   "cell_type": "markdown",
   "id": "4f6fa26c",
   "metadata": {
    "papermill": {
     "duration": 0.00985,
     "end_time": "2022-10-22T13:06:39.239621",
     "exception": false,
     "start_time": "2022-10-22T13:06:39.229771",
     "status": "completed"
    },
    "tags": []
   },
   "source": [
    "## Optimizer"
   ]
  },
  {
   "cell_type": "code",
   "execution_count": 20,
   "id": "694cc491",
   "metadata": {
    "execution": {
     "iopub.execute_input": "2022-10-22T13:06:39.261466Z",
     "iopub.status.busy": "2022-10-22T13:06:39.260649Z",
     "iopub.status.idle": "2022-10-22T13:06:39.265637Z",
     "shell.execute_reply": "2022-10-22T13:06:39.264779Z"
    },
    "papermill": {
     "duration": 0.017835,
     "end_time": "2022-10-22T13:06:39.267508",
     "exception": false,
     "start_time": "2022-10-22T13:06:39.249673",
     "status": "completed"
    },
    "tags": []
   },
   "outputs": [],
   "source": [
    "def get_optimizer(model):\n",
    "    optimizer = Adam(model.parameters(), lr=CFG.lr, weight_decay=CFG.weight_decay, amsgrad=False)\n",
    "    return optimizer"
   ]
  },
  {
   "cell_type": "markdown",
   "id": "c18c0e82",
   "metadata": {
    "papermill": {
     "duration": 0.009847,
     "end_time": "2022-10-22T13:06:39.287537",
     "exception": false,
     "start_time": "2022-10-22T13:06:39.277690",
     "status": "completed"
    },
    "tags": []
   },
   "source": [
    "## Scheduler\n",
    "It is used for adjusting the learning rate(LR decay) between epochs as the training progresses. Read about more schedulers [here](https://pytorch.org/docs/stable/optim.html#)"
   ]
  },
  {
   "cell_type": "code",
   "execution_count": 21,
   "id": "92b9e971",
   "metadata": {
    "execution": {
     "iopub.execute_input": "2022-10-22T13:06:39.309435Z",
     "iopub.status.busy": "2022-10-22T13:06:39.308499Z",
     "iopub.status.idle": "2022-10-22T13:06:39.313556Z",
     "shell.execute_reply": "2022-10-22T13:06:39.312721Z"
    },
    "papermill": {
     "duration": 0.017969,
     "end_time": "2022-10-22T13:06:39.315503",
     "exception": false,
     "start_time": "2022-10-22T13:06:39.297534",
     "status": "completed"
    },
    "tags": []
   },
   "outputs": [],
   "source": [
    "def get_scheduler(optimizer):\n",
    "    scheduler = StepLR(optimizer, step_size=2, gamma=0.41, verbose=True)\n",
    "    return scheduler"
   ]
  },
  {
   "cell_type": "markdown",
   "id": "f581ebe5",
   "metadata": {
    "papermill": {
     "duration": 0.009834,
     "end_time": "2022-10-22T13:06:39.335357",
     "exception": false,
     "start_time": "2022-10-22T13:06:39.325523",
     "status": "completed"
    },
    "tags": []
   },
   "source": [
    "## Utility Functions"
   ]
  },
  {
   "cell_type": "code",
   "execution_count": 22,
   "id": "c474e83e",
   "metadata": {
    "execution": {
     "iopub.execute_input": "2022-10-22T13:06:39.357275Z",
     "iopub.status.busy": "2022-10-22T13:06:39.356550Z",
     "iopub.status.idle": "2022-10-22T13:06:39.369243Z",
     "shell.execute_reply": "2022-10-22T13:06:39.368412Z"
    },
    "papermill": {
     "duration": 0.025808,
     "end_time": "2022-10-22T13:06:39.371177",
     "exception": false,
     "start_time": "2022-10-22T13:06:39.345369",
     "status": "completed"
    },
    "tags": []
   },
   "outputs": [],
   "source": [
    "class AverageMeter(object):\n",
    "    \"\"\"Computes and stores the average and current value\"\"\"\n",
    "    def __init__(self):\n",
    "        self.reset()\n",
    "\n",
    "    def reset(self):\n",
    "        self.val = 0\n",
    "        self.avg = 0\n",
    "        self.sum = 0\n",
    "        self.count = 0\n",
    "\n",
    "    def update(self, val, n=1):\n",
    "        self.val = val\n",
    "        self.sum += val * n\n",
    "        self.count += n\n",
    "        self.avg = self.sum / self.count\n",
    "        \n",
    "def train_fn(train_loader, model, criterion, optimizer, epoch, scheduler, device):\n",
    "    model.train() # switch to training mode\n",
    "    running_loss = 0\n",
    "    count = 0\n",
    "    for (images, labels) in tqdm(train_loader):\n",
    "        images = images.to(device)\n",
    "        labels = labels.to(device)\n",
    "        y_preds = model(images)\n",
    "        \n",
    "        loss = criterion(y_preds, labels)\n",
    "        running_loss += loss.item()*labels.shape[0]\n",
    "        count += 1\n",
    "        \n",
    "        loss.backward()\n",
    "        optimizer.step()\n",
    "        optimizer.zero_grad()\n",
    "        \n",
    "    return running_loss/count\n",
    "\n",
    "\n",
    "def valid_fn(valid_loader, model, criterion, device):\n",
    "    model.eval() # switch to evaluation mode\n",
    "    preds = []\n",
    "    running_loss = 0\n",
    "    count = 0\n",
    "    \n",
    "    for (images, labels) in tqdm(valid_loader):\n",
    "        images = images.to(device)\n",
    "        labels = labels.to(device)\n",
    "        # compute loss\n",
    "        with torch.no_grad():\n",
    "            y_preds = model(images)\n",
    "        loss = criterion(y_preds, labels)\n",
    "        running_loss += loss.item()*labels.shape[0]\n",
    "        count += 1\n",
    "        # record accuracy\n",
    "        preds.append(y_preds.softmax(1).to('cpu').numpy())\n",
    "    predictions = np.concatenate(preds)\n",
    "    \n",
    "    return (running_loss/count), predictions\n",
    "\n",
    "\n",
    "def test_fun(test_loader, model, device):\n",
    "    model.eval()\n",
    "    preds = []\n",
    "    test_df = pd.DataFrame()\n",
    "    for step, (images) in enumerate(test_loader):\n",
    "        images = images.to(device)\n",
    "        with torch.no_grad():\n",
    "            y_preds = model(images)\n",
    "        preds.append(y_preds.softmax(1).to('cpu').numpy())\n",
    "    predictions = np.concatenate(preds)\n",
    "    pred = predictions.argmax(1)\n",
    "    return pred"
   ]
  },
  {
   "cell_type": "markdown",
   "id": "12e45972",
   "metadata": {
    "papermill": {
     "duration": 0.009801,
     "end_time": "2022-10-22T13:06:39.390998",
     "exception": false,
     "start_time": "2022-10-22T13:06:39.381197",
     "status": "completed"
    },
    "tags": []
   },
   "source": [
    "# Train loop"
   ]
  },
  {
   "cell_type": "code",
   "execution_count": 23,
   "id": "f24e4600",
   "metadata": {
    "execution": {
     "iopub.execute_input": "2022-10-22T13:06:39.413136Z",
     "iopub.status.busy": "2022-10-22T13:06:39.412862Z",
     "iopub.status.idle": "2022-10-22T13:06:39.423087Z",
     "shell.execute_reply": "2022-10-22T13:06:39.422243Z"
    },
    "papermill": {
     "duration": 0.023802,
     "end_time": "2022-10-22T13:06:39.424996",
     "exception": false,
     "start_time": "2022-10-22T13:06:39.401194",
     "status": "completed"
    },
    "tags": []
   },
   "outputs": [],
   "source": [
    "# Train loop\n",
    "def train_loop(train_data, valid_data):\n",
    "    \n",
    "    # create dataset\n",
    "    train_dataset = TrainDataset(train_data, transform=get_transforms(data='train'))\n",
    "    valid_dataset = TrainDataset(valid_data, transform=get_transforms(data='valid'))\n",
    "\n",
    "    # create dataloader\n",
    "    train_loader = DataLoader(train_dataset, batch_size=CFG.batch_size, shuffle=True, \n",
    "                              num_workers=CFG.num_workers, pin_memory=True, drop_last=True)\n",
    "    valid_loader = DataLoader(valid_dataset, batch_size=CFG.batch_size, shuffle=False, \n",
    "                              num_workers=CFG.num_workers, pin_memory=True, drop_last=False)\n",
    "\n",
    "    # create model and transfer to device\n",
    "    model = CustomNet(CFG.model_name, pretrained=True)\n",
    "    model.to(device)\n",
    "    \n",
    "    # select optimizer, scheduler and criterion\n",
    "    optimizer = get_optimizer(model)\n",
    "    scheduler = get_scheduler(optimizer)\n",
    "    criterion = get_criterion()\n",
    "\n",
    "    best_score = -1.0\n",
    "    best_loss = np.inf\n",
    "    \n",
    "    # start training\n",
    "    for epoch in range(CFG.epochs):\n",
    "        # train\n",
    "        avg_loss = train_fn(train_loader, model, criterion, optimizer, epoch, scheduler, device)\n",
    "        # validation\n",
    "        avg_val_loss, preds = valid_fn(valid_loader, model, criterion, device)\n",
    "        \n",
    "#         valid_labels = valid_folds[CFG.target_col].values\n",
    "        valid_labels = valid_data['tar']\n",
    "        \n",
    "        scheduler.step()\n",
    "\n",
    "        # scoring\n",
    "        score = get_score(valid_labels, preds.argmax(1))\n",
    "        print(\"score: \", score)\n",
    "\n",
    "        # code for saving the best model\n",
    "        if score > best_score:\n",
    "            print('Score Improved')\n",
    "            best_score = score\n",
    "            print(f'Epoch {epoch+1} - Save Best Score: {best_score:.4f}')\n",
    "            torch.save({'model': model.state_dict(), \n",
    "                        'preds': preds,\n",
    "                        'optimizer': optimizer.state_dict(),\n",
    "                        'scheduler': scheduler.state_dict()},\n",
    "                        './'+f'{CFG.model_name}_best.pth')\n",
    "    \n",
    "    check_point = torch.load('./'+f'{CFG.model_name}_best.pth')\n",
    "    valid_data['preds'] = check_point['preds'].argmax(1)\n",
    "\n",
    "    return valid_data"
   ]
  },
  {
   "cell_type": "code",
   "execution_count": 24,
   "id": "66b94241",
   "metadata": {
    "execution": {
     "iopub.execute_input": "2022-10-22T13:06:39.446989Z",
     "iopub.status.busy": "2022-10-22T13:06:39.446051Z",
     "iopub.status.idle": "2022-10-22T13:06:39.451792Z",
     "shell.execute_reply": "2022-10-22T13:06:39.450950Z"
    },
    "papermill": {
     "duration": 0.018698,
     "end_time": "2022-10-22T13:06:39.453741",
     "exception": false,
     "start_time": "2022-10-22T13:06:39.435043",
     "status": "completed"
    },
    "tags": []
   },
   "outputs": [],
   "source": [
    "# main\n",
    "def main():\n",
    "    def get_result(result_df):\n",
    "        preds = result_df['preds'].values\n",
    "        labels = result_df[CFG.target_col].values\n",
    "        score = get_score(labels, preds)\n",
    "    \n",
    "    if CFG.train: \n",
    "        # train\n",
    "        df = train_loop(train_data, val_data)\n",
    "        get_result(df)"
   ]
  },
  {
   "cell_type": "code",
   "execution_count": 25,
   "id": "b6880b08",
   "metadata": {
    "execution": {
     "iopub.execute_input": "2022-10-22T13:06:39.475904Z",
     "iopub.status.busy": "2022-10-22T13:06:39.475004Z",
     "iopub.status.idle": "2022-10-22T13:23:56.057716Z",
     "shell.execute_reply": "2022-10-22T13:23:56.056531Z"
    },
    "papermill": {
     "duration": 1036.596414,
     "end_time": "2022-10-22T13:23:56.060327",
     "exception": false,
     "start_time": "2022-10-22T13:06:39.463913",
     "status": "completed"
    },
    "tags": []
   },
   "outputs": [
    {
     "name": "stdout",
     "output_type": "stream",
     "text": [
      "Adjusting learning rate of group 0 to 1.0000e-03.\n"
     ]
    },
    {
     "name": "stderr",
     "output_type": "stream",
     "text": [
      "100%|██████████| 35/35 [01:34<00:00,  2.70s/it]\n",
      "100%|██████████| 4/4 [00:10<00:00,  2.71s/it]\n"
     ]
    },
    {
     "name": "stdout",
     "output_type": "stream",
     "text": [
      "Adjusting learning rate of group 0 to 1.0000e-03.\n",
      "score:  0.3700787401574803\n",
      "Score Improved\n",
      "Epoch 1 - Save Best Score: 0.3701\n"
     ]
    },
    {
     "name": "stderr",
     "output_type": "stream",
     "text": [
      "100%|██████████| 35/35 [01:31<00:00,  2.63s/it]\n",
      "100%|██████████| 4/4 [00:11<00:00,  2.84s/it]\n"
     ]
    },
    {
     "name": "stdout",
     "output_type": "stream",
     "text": [
      "Adjusting learning rate of group 0 to 4.1000e-04.\n",
      "score:  0.37401574803149606\n",
      "Score Improved\n",
      "Epoch 2 - Save Best Score: 0.3740\n"
     ]
    },
    {
     "name": "stderr",
     "output_type": "stream",
     "text": [
      "100%|██████████| 35/35 [01:31<00:00,  2.61s/it]\n",
      "100%|██████████| 4/4 [00:10<00:00,  2.65s/it]\n"
     ]
    },
    {
     "name": "stdout",
     "output_type": "stream",
     "text": [
      "Adjusting learning rate of group 0 to 4.1000e-04.\n",
      "score:  0.49606299212598426\n",
      "Score Improved\n",
      "Epoch 3 - Save Best Score: 0.4961\n"
     ]
    },
    {
     "name": "stderr",
     "output_type": "stream",
     "text": [
      "100%|██████████| 35/35 [01:32<00:00,  2.63s/it]\n",
      "100%|██████████| 4/4 [00:10<00:00,  2.64s/it]\n"
     ]
    },
    {
     "name": "stdout",
     "output_type": "stream",
     "text": [
      "Adjusting learning rate of group 0 to 1.6810e-04.\n",
      "score:  0.41338582677165353\n"
     ]
    },
    {
     "name": "stderr",
     "output_type": "stream",
     "text": [
      "100%|██████████| 35/35 [01:31<00:00,  2.62s/it]\n",
      "100%|██████████| 4/4 [00:10<00:00,  2.67s/it]\n"
     ]
    },
    {
     "name": "stdout",
     "output_type": "stream",
     "text": [
      "Adjusting learning rate of group 0 to 1.6810e-04.\n",
      "score:  0.5393700787401575\n",
      "Score Improved\n",
      "Epoch 5 - Save Best Score: 0.5394\n"
     ]
    },
    {
     "name": "stderr",
     "output_type": "stream",
     "text": [
      "100%|██████████| 35/35 [01:31<00:00,  2.62s/it]\n",
      "100%|██████████| 4/4 [00:11<00:00,  2.83s/it]\n"
     ]
    },
    {
     "name": "stdout",
     "output_type": "stream",
     "text": [
      "Adjusting learning rate of group 0 to 6.8921e-05.\n",
      "score:  0.547244094488189\n",
      "Score Improved\n",
      "Epoch 6 - Save Best Score: 0.5472\n"
     ]
    },
    {
     "name": "stderr",
     "output_type": "stream",
     "text": [
      "100%|██████████| 35/35 [01:32<00:00,  2.63s/it]\n",
      "100%|██████████| 4/4 [00:10<00:00,  2.66s/it]\n"
     ]
    },
    {
     "name": "stdout",
     "output_type": "stream",
     "text": [
      "Adjusting learning rate of group 0 to 6.8921e-05.\n",
      "score:  0.562992125984252\n",
      "Score Improved\n",
      "Epoch 7 - Save Best Score: 0.5630\n"
     ]
    },
    {
     "name": "stderr",
     "output_type": "stream",
     "text": [
      "100%|██████████| 35/35 [01:32<00:00,  2.64s/it]\n",
      "100%|██████████| 4/4 [00:10<00:00,  2.67s/it]\n"
     ]
    },
    {
     "name": "stdout",
     "output_type": "stream",
     "text": [
      "Adjusting learning rate of group 0 to 2.8258e-05.\n",
      "score:  0.5787401574803149\n",
      "Score Improved\n",
      "Epoch 8 - Save Best Score: 0.5787\n"
     ]
    },
    {
     "name": "stderr",
     "output_type": "stream",
     "text": [
      "100%|██████████| 35/35 [01:32<00:00,  2.64s/it]\n",
      "100%|██████████| 4/4 [00:11<00:00,  2.76s/it]\n"
     ]
    },
    {
     "name": "stdout",
     "output_type": "stream",
     "text": [
      "Adjusting learning rate of group 0 to 2.8258e-05.\n",
      "score:  0.5905511811023622\n",
      "Score Improved\n",
      "Epoch 9 - Save Best Score: 0.5906\n"
     ]
    },
    {
     "name": "stderr",
     "output_type": "stream",
     "text": [
      "100%|██████████| 35/35 [01:30<00:00,  2.59s/it]\n",
      "100%|██████████| 4/4 [00:11<00:00,  2.81s/it]\n"
     ]
    },
    {
     "name": "stdout",
     "output_type": "stream",
     "text": [
      "Adjusting learning rate of group 0 to 1.1586e-05.\n",
      "score:  0.610236220472441\n",
      "Score Improved\n",
      "Epoch 10 - Save Best Score: 0.6102\n"
     ]
    }
   ],
   "source": [
    "if __name__ == '__main__':\n",
    "    main()"
   ]
  },
  {
   "cell_type": "code",
   "execution_count": 26,
   "id": "fea1e942",
   "metadata": {
    "execution": {
     "iopub.execute_input": "2022-10-22T13:23:56.125973Z",
     "iopub.status.busy": "2022-10-22T13:23:56.125611Z",
     "iopub.status.idle": "2022-10-22T13:24:13.519839Z",
     "shell.execute_reply": "2022-10-22T13:24:13.518619Z"
    },
    "papermill": {
     "duration": 17.42986,
     "end_time": "2022-10-22T13:24:13.522387",
     "exception": false,
     "start_time": "2022-10-22T13:23:56.092527",
     "status": "completed"
    },
    "tags": []
   },
   "outputs": [],
   "source": [
    "test_dataset = TestDataset(test, transform=get_transforms(data='valid'))\n",
    "test_loader = DataLoader(test_dataset, batch_size=1, shuffle=False, \n",
    "                          num_workers=CFG.num_workers, pin_memory=True, drop_last=False)\n",
    "check_point = torch.load('./'+f'{CFG.model_name}_best.pth')\n",
    "model = CustomNet(CFG.model_name, pretrained=True)\n",
    "model.to(device)\n",
    "model.load_state_dict(check_point['model'])\n",
    "pred = test_fun(test_loader, model, device)"
   ]
  },
  {
   "cell_type": "code",
   "execution_count": 27,
   "id": "49f924e6",
   "metadata": {
    "execution": {
     "iopub.execute_input": "2022-10-22T13:24:13.589484Z",
     "iopub.status.busy": "2022-10-22T13:24:13.587804Z",
     "iopub.status.idle": "2022-10-22T13:24:13.595076Z",
     "shell.execute_reply": "2022-10-22T13:24:13.594198Z"
    },
    "papermill": {
     "duration": 0.042364,
     "end_time": "2022-10-22T13:24:13.597117",
     "exception": false,
     "start_time": "2022-10-22T13:24:13.554753",
     "status": "completed"
    },
    "tags": []
   },
   "outputs": [],
   "source": [
    "test['tar'] = pred"
   ]
  },
  {
   "cell_type": "code",
   "execution_count": 28,
   "id": "5948debb",
   "metadata": {
    "execution": {
     "iopub.execute_input": "2022-10-22T13:24:13.662028Z",
     "iopub.status.busy": "2022-10-22T13:24:13.661117Z",
     "iopub.status.idle": "2022-10-22T13:24:13.672426Z",
     "shell.execute_reply": "2022-10-22T13:24:13.671543Z"
    },
    "papermill": {
     "duration": 0.04635,
     "end_time": "2022-10-22T13:24:13.674782",
     "exception": false,
     "start_time": "2022-10-22T13:24:13.628432",
     "status": "completed"
    },
    "tags": []
   },
   "outputs": [],
   "source": [
    "submission_df = test.drop(['path'], axis=1)\n",
    "submission_df.to_csv(\"solution.csv\", index=False)"
   ]
  },
  {
   "cell_type": "code",
   "execution_count": 29,
   "id": "c7ba8792",
   "metadata": {
    "execution": {
     "iopub.execute_input": "2022-10-22T13:24:13.738560Z",
     "iopub.status.busy": "2022-10-22T13:24:13.738255Z",
     "iopub.status.idle": "2022-10-22T13:24:13.752410Z",
     "shell.execute_reply": "2022-10-22T13:24:13.751383Z"
    },
    "papermill": {
     "duration": 0.048572,
     "end_time": "2022-10-22T13:24:13.754871",
     "exception": false,
     "start_time": "2022-10-22T13:24:13.706299",
     "status": "completed"
    },
    "tags": []
   },
   "outputs": [
    {
     "data": {
      "text/html": [
       "<div>\n",
       "<style scoped>\n",
       "    .dataframe tbody tr th:only-of-type {\n",
       "        vertical-align: middle;\n",
       "    }\n",
       "\n",
       "    .dataframe tbody tr th {\n",
       "        vertical-align: top;\n",
       "    }\n",
       "\n",
       "    .dataframe thead th {\n",
       "        text-align: right;\n",
       "    }\n",
       "</style>\n",
       "<table border=\"1\" class=\"dataframe\">\n",
       "  <thead>\n",
       "    <tr style=\"text-align: right;\">\n",
       "      <th></th>\n",
       "      <th>id</th>\n",
       "      <th>tar</th>\n",
       "    </tr>\n",
       "  </thead>\n",
       "  <tbody>\n",
       "    <tr>\n",
       "      <th>0</th>\n",
       "      <td>10002998.0</td>\n",
       "      <td>3</td>\n",
       "    </tr>\n",
       "    <tr>\n",
       "      <th>1</th>\n",
       "      <td>10003172.0</td>\n",
       "      <td>4</td>\n",
       "    </tr>\n",
       "    <tr>\n",
       "      <th>2</th>\n",
       "      <td>20004712.0</td>\n",
       "      <td>4</td>\n",
       "    </tr>\n",
       "    <tr>\n",
       "      <th>3</th>\n",
       "      <td>20004205.0</td>\n",
       "      <td>5</td>\n",
       "    </tr>\n",
       "    <tr>\n",
       "      <th>4</th>\n",
       "      <td>20000346.0</td>\n",
       "      <td>3</td>\n",
       "    </tr>\n",
       "    <tr>\n",
       "      <th>...</th>\n",
       "      <td>...</td>\n",
       "      <td>...</td>\n",
       "    </tr>\n",
       "    <tr>\n",
       "      <th>553</th>\n",
       "      <td>20001798.0</td>\n",
       "      <td>4</td>\n",
       "    </tr>\n",
       "    <tr>\n",
       "      <th>554</th>\n",
       "      <td>10006153.0</td>\n",
       "      <td>5</td>\n",
       "    </tr>\n",
       "    <tr>\n",
       "      <th>555</th>\n",
       "      <td>10010660.0</td>\n",
       "      <td>4</td>\n",
       "    </tr>\n",
       "    <tr>\n",
       "      <th>556</th>\n",
       "      <td>10008746.0</td>\n",
       "      <td>4</td>\n",
       "    </tr>\n",
       "    <tr>\n",
       "      <th>557</th>\n",
       "      <td>20004939.0</td>\n",
       "      <td>5</td>\n",
       "    </tr>\n",
       "  </tbody>\n",
       "</table>\n",
       "<p>558 rows × 2 columns</p>\n",
       "</div>"
      ],
      "text/plain": [
       "             id  tar\n",
       "0    10002998.0    3\n",
       "1    10003172.0    4\n",
       "2    20004712.0    4\n",
       "3    20004205.0    5\n",
       "4    20000346.0    3\n",
       "..          ...  ...\n",
       "553  20001798.0    4\n",
       "554  10006153.0    5\n",
       "555  10010660.0    4\n",
       "556  10008746.0    4\n",
       "557  20004939.0    5\n",
       "\n",
       "[558 rows x 2 columns]"
      ]
     },
     "execution_count": 29,
     "metadata": {},
     "output_type": "execute_result"
    }
   ],
   "source": [
    "submission_df"
   ]
  },
  {
   "cell_type": "markdown",
   "id": "dfae2b11",
   "metadata": {
    "papermill": {
     "duration": 0.031417,
     "end_time": "2022-10-22T13:24:13.818267",
     "exception": false,
     "start_time": "2022-10-22T13:24:13.786850",
     "status": "completed"
    },
    "tags": []
   },
   "source": [
    "### Now click on the \"Submit\" button to submit the notebook\n",
    "### NOTE: We expect everyone to generate such notebooks for your final submission. Only the teams with notebook submitted against their final submission will be considered for prize money!"
   ]
  },
  {
   "cell_type": "markdown",
   "id": "15c79de5",
   "metadata": {
    "papermill": {
     "duration": 0.031813,
     "end_time": "2022-10-22T13:24:13.881686",
     "exception": false,
     "start_time": "2022-10-22T13:24:13.849873",
     "status": "completed"
    },
    "tags": []
   },
   "source": [
    "### Things to try next:\n",
    "* Try different architectures, optimizers, loss functions etc.\n",
    "* Think of ways of tackling data imbalance problem.\n",
    "* Try different image size\n",
    "* Try Ensembling methods.\n",
    "* Apply semi supervised learning."
   ]
  },
  {
   "cell_type": "markdown",
   "id": "49dc6b99",
   "metadata": {
    "papermill": {
     "duration": 0.031181,
     "end_time": "2022-10-22T13:24:13.944025",
     "exception": false,
     "start_time": "2022-10-22T13:24:13.912844",
     "status": "completed"
    },
    "tags": []
   },
   "source": [
    "### PS: This competition is hosted to promote learning. So we request you to publish your baseline models via Kaggle kernels and discuss on the discussion tab to help others learn. Thanks!"
   ]
  },
  {
   "cell_type": "code",
   "execution_count": null,
   "id": "bf313894",
   "metadata": {
    "papermill": {
     "duration": 0.031251,
     "end_time": "2022-10-22T13:24:14.006574",
     "exception": false,
     "start_time": "2022-10-22T13:24:13.975323",
     "status": "completed"
    },
    "tags": []
   },
   "outputs": [],
   "source": []
  }
 ],
 "metadata": {
  "kernelspec": {
   "display_name": "Python 3",
   "language": "python",
   "name": "python3"
  },
  "language_info": {
   "codemirror_mode": {
    "name": "ipython",
    "version": 3
   },
   "file_extension": ".py",
   "mimetype": "text/x-python",
   "name": "python",
   "nbconvert_exporter": "python",
   "pygments_lexer": "ipython3",
   "version": "3.7.12"
  },
  "papermill": {
   "default_parameters": {},
   "duration": 1088.007646,
   "end_time": "2022-10-22T13:24:16.361514",
   "environment_variables": {},
   "exception": null,
   "input_path": "__notebook__.ipynb",
   "output_path": "__notebook__.ipynb",
   "parameters": {},
   "start_time": "2022-10-22T13:06:08.353868",
   "version": "2.3.4"
  }
 },
 "nbformat": 4,
 "nbformat_minor": 5
}
